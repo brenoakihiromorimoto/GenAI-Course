{
 "cells": [
  {
   "cell_type": "markdown",
   "id": "24cbe1ac",
   "metadata": {},
   "source": [
    "# Basic Vector Search from Scratch\n",
    "\n",
    "For this exercise we will implement basic vector search\n",
    "from scratch with just numpy.<br/>\n",
    "This will give us a feel\n",
    "for what's happening under the hood in vector databases."
   ]
  },
  {
   "cell_type": "code",
   "execution_count": 1,
   "id": "25b3a7a8-c5d0-4366-8c9c-657cb00124d2",
   "metadata": {},
   "outputs": [],
   "source": [
    "# !pip install numpy pytest [This is preinstalled for you in the workspace]"
   ]
  },
  {
   "cell_type": "markdown",
   "id": "68a86f4f",
   "metadata": {},
   "source": [
    "## Euclidean distance\n",
    "\n",
    "There are many ways to measure the distance between two vectors.\n",
    "Let's write a function that computes the `Euclidean distance` \n",
    "between vectors. \n",
    "\n",
    "This function should take as input two vectors and return\n",
    "the euclidean distance between them.\n",
    "\n",
    "For more details you can read this [kaggle page](https://www.kaggle.com/code/paulrohan2020/euclidean-distance-and-normalizing-a-vector)\n"
   ]
  },
  {
   "cell_type": "code",
   "execution_count": 20,
   "id": "88be0502",
   "metadata": {},
   "outputs": [],
   "source": [
    "import numpy as np\n",
    "import pandas as pd"
   ]
  },
  {
   "cell_type": "code",
   "execution_count": 38,
   "id": "c731f8e8",
   "metadata": {},
   "outputs": [],
   "source": [
    "def euclidean_distance(v1: np.ndarray, v2: np.ndarray) -> float:\n",
    "    \"\"\"\n",
    "    Compute the Euclidean distance between two vectors.\n",
    "\n",
    "    Parameters\n",
    "    ----------\n",
    "    v1 : np.ndarray\n",
    "        First vector.\n",
    "    v2 : np.ndarray\n",
    "        Second vector.\n",
    "\n",
    "    Returns\n",
    "    -------\n",
    "    float\n",
    "        Euclidean distance between `v1` and `v2`.\n",
    "    \"\"\"\n",
    "    euclidean_distance = np.sum((v1 - v2)**2)**1/2\n",
    "    return euclidean_distance"
   ]
  },
  {
   "cell_type": "markdown",
   "id": "cc6760a2",
   "metadata": {},
   "source": [
    "## KNN search\n",
    "\n",
    "Using the distance function you just wrote, write a function that \n",
    "finds the k-nearest neighbors of a query vector.\n",
    "\n",
    "This function should take as input a query vector, a 2d array of database vectors,\n",
    "and an integer k the number of nearest neighbors to return. And it should return \n",
    "the vectors that are the k-nearest neighbors of the query vector.\n"
   ]
  },
  {
   "cell_type": "code",
   "execution_count": 8,
   "id": "68124b99",
   "metadata": {},
   "outputs": [],
   "source": [
    "def find_nearest_neighbors(query: np.ndarray,\n",
    "                           vectors: np.ndarray,\n",
    "                           k: int = 1) -> np.ndarray:\n",
    "    \"\"\"\n",
    "    Find k-nearest neighbors of a query vector.\n",
    "\n",
    "    Parameters\n",
    "    ----------\n",
    "    query : np.ndarray\n",
    "        Query vector.\n",
    "    vectors : np.ndarray\n",
    "        Vectors to search.\n",
    "    k : int, optional\n",
    "        Number of nearest neighbors to return, by default 1.\n",
    "\n",
    "    Returns\n",
    "    -------\n",
    "    np.ndarray\n",
    "        The `k` nearest neighbors of `query` in `vectors`.\n",
    "    \"\"\"\n",
    "    df = pd.DataFrame()\n",
    "    distance = euclidean_distance(v1 = query, v2 = vectors)\n",
    "    df['vectors'] = vectors\n",
    "    df['distance'] = distance\n",
    "    df_02 = df.sort_values(by='distance').loc[:k]\n",
    "    return df_02['vectors']"
   ]
  },
  {
   "cell_type": "markdown",
   "id": "5eabd7ba",
   "metadata": {},
   "source": [
    "## Other distance metrics\n",
    "\n",
    "For this problem we'll write a new distance function and modify \n",
    "our nearest neighbors function to accept a distance metric.\n"
   ]
  },
  {
   "cell_type": "markdown",
   "id": "d138be2c",
   "metadata": {},
   "source": [
    "Write a function that computes the [cosine distance](ttps://en.wikipedia.org/wiki/Cosine_similarity) between vectors."
   ]
  },
  {
   "cell_type": "code",
   "execution_count": 9,
   "id": "b91848ed",
   "metadata": {},
   "outputs": [],
   "source": [
    "from typing import Union\n",
    "\n",
    "def cosine_distance(v1: np.ndarray, v2: np.ndarray) -> Union[float, np.ndarray]:\n",
    "    \"\"\"\n",
    "    Compute the cosine distance between two vectors.\n",
    "\n",
    "    Parameters\n",
    "    ----------\n",
    "    v1 : np.ndarray\n",
    "        First vector.\n",
    "    v2 : np.ndarray\n",
    "        Second vector.\n",
    "\n",
    "    Returns\n",
    "    -------\n",
    "    float\n",
    "        Cosine distance between `v1` and `v2`.\n",
    "    \"\"\"\n",
    "    cosine_similarity = (v1 * v2)/((np.sum(v1**2)**1/2)*(np.sum(v2**2)**1/2))\n",
    "    cosine_distance = 1 - cosine_similarity\n",
    "    return cosine_distance"
   ]
  },
  {
   "cell_type": "markdown",
   "id": "c1d1c4d4",
   "metadata": {},
   "source": [
    "**HINT** Please make sure you understand the difference between cosine similarity and cosine distance"
   ]
  },
  {
   "cell_type": "markdown",
   "id": "e2c176d9",
   "metadata": {},
   "source": [
    "Now, rewrite the `find_nearest_neighbors` function to accept a distance metric so you can use either Euclidean or Cosine distance"
   ]
  },
  {
   "cell_type": "code",
   "execution_count": 34,
   "id": "f54ab2f2",
   "metadata": {},
   "outputs": [],
   "source": [
    "def find_nearest_neighbors(query: np.ndarray,\n",
    "                           vectors: np.ndarray,\n",
    "                           k: int = 1,\n",
    "                           distance_metric=\"euclidean\") -> np.ndarray:\n",
    "    \"\"\"\n",
    "    Find k-nearest neighbors of a query vector with a configurable\n",
    "    distance metric.\n",
    "\n",
    "    Parameters\n",
    "    ----------\n",
    "    query : np.ndarray\n",
    "        Query vector.\n",
    "    vectors : np.ndarray\n",
    "        Vectors to search.\n",
    "    k : int, optional\n",
    "        Number of nearest neighbors to return, by default 1.\n",
    "    distance_metric : str, optional\n",
    "        Distance metric to use, by default \"euclidean\".\n",
    "\n",
    "    Returns\n",
    "    -------\n",
    "    np.ndarray\n",
    "        The `k` nearest neighbors of `query` in `vectors`.\n",
    "    \"\"\"\n",
    "    \n",
    "    if distance_metric=='euclidean':\n",
    "        df = pd.DataFrame()\n",
    "        distance = euclidean_distance(v1 = query, v2 = vectors)\n",
    "        df['vectors'] = vectors.tolist()\n",
    "        df['distance'] = distance.tolist()\n",
    "        print(df['distance'])\n",
    "        df_02 = df.sort_values(by='distance').iloc[:k]\n",
    "        return df_02['vectors']\n",
    "    elif distance_metric=='cosine distance':\n",
    "        df = pd.DataFrame()\n",
    "        distance = euclidean_distance(v1 = query, v2 = vectors)\n",
    "        df['vectors'] = vectors.tolist()\n",
    "        df['distance'] = distance.tolist()\n",
    "        print(df['distance'])\n",
    "        df_02 = df.sort_values(by='distance').iloc[:k]\n",
    "        return df_02['vectors']"
   ]
  },
  {
   "cell_type": "markdown",
   "id": "21548bed",
   "metadata": {},
   "source": [
    "## Exploration\n",
    "\n",
    "Now that we have a nearest neighbors function that accepts a distance metric, <br/>\n",
    "let's explore the differences between Euclidean distance and cosine distance.\n",
    "\n",
    "Would you expect same or different answers?"
   ]
  },
  {
   "cell_type": "code",
   "execution_count": 39,
   "id": "1133d29d",
   "metadata": {},
   "outputs": [],
   "source": [
    "# You might find this function useful\n",
    "\n",
    "def generate_vectors(num_vectors: int, num_dim: int,\n",
    "                     normalize: bool = True) -> np.ndarray:\n",
    "    \"\"\"\n",
    "    Generate random embedding vectors.\n",
    "\n",
    "    Parameters\n",
    "    ----------\n",
    "    num_vectors : int\n",
    "        Number of vectors to generate.\n",
    "    num_dim : int\n",
    "        Dimensionality of the vectors.\n",
    "    normalize : bool, optional\n",
    "        Whether to normalize the vectors, by default True.\n",
    "\n",
    "    Returns\n",
    "    -------\n",
    "    np.ndarray\n",
    "        Randomly generated `num_vectors` vectors with `num_dim` dimensions.\n",
    "    \"\"\"\n",
    "    vectors = np.random.rand(num_vectors, num_dim)\n",
    "    if normalize:\n",
    "        vectors /= np.linalg.norm(vectors, axis=1, keepdims=True)\n",
    "    return vectors"
   ]
  },
  {
   "cell_type": "code",
   "execution_count": 41,
   "id": "5a3655e6",
   "metadata": {},
   "outputs": [
    {
     "name": "stdout",
     "output_type": "stream",
     "text": [
      "0    1.222576\n",
      "1    1.222576\n",
      "2    1.222576\n",
      "3    1.222576\n",
      "4    1.222576\n",
      "5    1.222576\n",
      "6    1.222576\n",
      "7    1.222576\n",
      "8    1.222576\n",
      "9    1.222576\n",
      "Name: distance, dtype: float64\n",
      "query: [0.2 0.3 0.4 0.5 0.6]\n",
      "vectors: [[0.1083521  0.55756687 0.43546841 0.62434578 0.31295147]\n",
      " [0.12722402 0.2319304  0.70496955 0.46455919 0.46607406]\n",
      " [0.19843375 0.3331213  0.61321528 0.62148295 0.29560145]\n",
      " [0.20150842 0.65882885 0.11463481 0.43348543 0.56946303]\n",
      " [0.03144048 0.71141262 0.09208703 0.11652098 0.6861825 ]\n",
      " [0.58525547 0.69007929 0.02864499 0.14725857 0.39844821]\n",
      " [0.26471119 0.32572368 0.32931878 0.62822332 0.56631853]\n",
      " [0.16015659 0.35922754 0.73018058 0.28634991 0.47973481]\n",
      " [0.50091289 0.54036726 0.59614597 0.15494261 0.27873332]\n",
      " [0.52181519 0.24576479 0.29457942 0.50333052 0.57200518]]\n",
      "find_vector: 0    [0.10835209983575408, 0.5575668682903915, 0.43...\n",
      "Name: vectors, dtype: object\n"
     ]
    }
   ],
   "source": [
    "query = np.array([0.2, 0.3, 0.4, 0.5, 0.6])\n",
    "vectors = generate_vectors(num_vectors=10, num_dim=5, normalize=False)\n",
    "\n",
    "find_vector = find_nearest_neighbors(query = query,\n",
    "                           vectors = vectors,\n",
    "                           k = 1,\n",
    "                           distance_metric=\"euclidean\")\n",
    "\n",
    "print(f'query: {query}')\n",
    "print(f'vectors: {vectors}')\n",
    "print(f'find_vector: {find_vector}')"
   ]
  },
  {
   "cell_type": "code",
   "execution_count": null,
   "id": "daf603e7",
   "metadata": {},
   "outputs": [],
   "source": []
  },
  {
   "cell_type": "code",
   "execution_count": null,
   "id": "caba1001",
   "metadata": {},
   "outputs": [],
   "source": []
  }
 ],
 "metadata": {
  "kernelspec": {
   "display_name": "Python 3 (ipykernel)",
   "language": "python",
   "name": "python3"
  },
  "language_info": {
   "codemirror_mode": {
    "name": "ipython",
    "version": 3
   },
   "file_extension": ".py",
   "mimetype": "text/x-python",
   "name": "python",
   "nbconvert_exporter": "python",
   "pygments_lexer": "ipython3",
   "version": "3.10.13"
  }
 },
 "nbformat": 4,
 "nbformat_minor": 5
}
