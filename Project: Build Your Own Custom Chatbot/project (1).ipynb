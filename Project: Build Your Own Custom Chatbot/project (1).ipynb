{
 "cells": [
  {
   "cell_type": "markdown",
   "id": "124e5672",
   "metadata": {},
   "source": [
    "# Custom Chatbot Project"
   ]
  },
  {
   "cell_type": "markdown",
   "id": "2a4a94b3",
   "metadata": {},
   "source": [
    "TODO: In this cell, write an explanation of which dataset you have chosen and why it is appropriate for this task"
   ]
  },
  {
   "cell_type": "markdown",
   "id": "a63d4c5f",
   "metadata": {},
   "source": [
    "## Data Wrangling\n",
    "\n",
    "TODO: I chose \"2023_fashion_trends.csv\", because I will create a fashion's assistant to help potential e-commerce clothes' buyers to find apropriate fashion clothes to their context. \n",
    "\n",
    "In the cells below, load your chosen dataset into a `pandas` dataframe with a column named `\"text\"`. This column should contain all of your text data, separated into at least 20 rows."
   ]
  },
  {
   "cell_type": "code",
   "execution_count": 1,
   "id": "c69b83a1",
   "metadata": {},
   "outputs": [],
   "source": [
    "import pandas as pd\n",
    "df = pd.read_csv(\"./data/2023_fashion_trends.csv\")"
   ]
  },
  {
   "cell_type": "code",
   "execution_count": 2,
   "id": "0a595980",
   "metadata": {},
   "outputs": [
    {
     "data": {
      "text/plain": [
       "'https://www.refinery29.com/en-us/fashion-trends-2023-2023 Fashion Trend: Red. Glossy red hues took over the Fall 2023 runways ranging from Sandy Liang and PatBo to Tory Burch and Wiederhoeft. Think: Juicy reds with vibrant orange undertones that would look just as good in head-to-toe looks (see: a pantsuit) as accent accessory pieces (shoes, handbags, jewelry).-7 Fashion Trends That Will Take Over 2023 — Shop Them Now'"
      ]
     },
     "execution_count": 2,
     "metadata": {},
     "output_type": "execute_result"
    }
   ],
   "source": [
    "df['text'] = df['URL'] + \"-\" + df['Trends'] + \"-\" + df['Source']\n",
    "df['text'].loc[0]"
   ]
  },
  {
   "cell_type": "code",
   "execution_count": null,
   "id": "acb3a9fd",
   "metadata": {},
   "outputs": [],
   "source": []
  },
  {
   "cell_type": "markdown",
   "id": "ae769871",
   "metadata": {},
   "source": [
    "## Custom Query Completion\n",
    "\n",
    "TODO: In the cells below, compose a custom query using your chosen dataset and retrieve results from an OpenAI `Completion` model. You may copy and paste any useful code from the course materials."
   ]
  },
  {
   "cell_type": "code",
   "execution_count": 3,
   "id": "582f0656",
   "metadata": {},
   "outputs": [],
   "source": [
    "import openai\n",
    "import tiktoken\n",
    "from openai.embeddings_utils import distances_from_embeddings, get_embedding\n",
    "import numpy as np\n",
    "import pandas as pd\n"
   ]
  },
  {
   "cell_type": "code",
   "execution_count": 4,
   "id": "8b6e1f75",
   "metadata": {},
   "outputs": [],
   "source": [
    "openai.api_key='YOUR API KEY'"
   ]
  },
  {
   "cell_type": "code",
   "execution_count": 5,
   "id": "1587f874",
   "metadata": {},
   "outputs": [],
   "source": [
    "def rag_prep_01(df, question):\n",
    "    df_prep = df.copy()\n",
    "    ##Add Embedding Feature in Dataset:\n",
    "    response_embed = openai.Embedding.create(\n",
    "        input=df_prep['text'].tolist(), \n",
    "        model=\"text-embedding-ada-002\"\n",
    "    )\n",
    "    embeddings = [data['embedding'] for data in response_embed['data']]\n",
    "    df_prep['embedding'] = embeddings\n",
    "    ##Extract embedding feature of question:\n",
    "    question_embedding = get_embedding(question, engine=\"text-embedding-ada-002\")\n",
    "    ##Calculate Cosine Distance of two Embeddings:\n",
    "    distances = distances_from_embeddings(question_embedding, df_prep['embedding'].tolist())\n",
    "    df_prep['distances'] = distances\n",
    "    return df_prep.sort_values(by='distances')"
   ]
  },
  {
   "cell_type": "code",
   "execution_count": 6,
   "id": "6435677b",
   "metadata": {},
   "outputs": [],
   "source": [
    "def rag_prep_02(df, question):\n",
    "    \n",
    "    prompt_template = \"\"\"\n",
    "    You are a recommendation system of fashion clothes.\n",
    "    Answer the question based on the context below, and if question \n",
    "    can't be answered based on the context, say \"I don't know\"\n",
    "    \n",
    "    Context:\n",
    "    \n",
    "    {}\n",
    "    \n",
    "    ---\n",
    "    \n",
    "    Question:\n",
    "    {}\n",
    "    \n",
    "    Answer:\n",
    "    \"\"\"\n",
    "    \n",
    "    tokenizer = tiktoken.get_encoding(\"cl100k_base\")\n",
    "    max_token_count = 2000\n",
    "    \n",
    "    current_token_count = len(tokenizer.encode(question))+len(tokenizer.encode(prompt_template))\n",
    "    context = []\n",
    "    \n",
    "    for text in df['text']:\n",
    "        current_token_count += len(tokenizer.encode(text))\n",
    "        if current_token_count<=max_token_count:\n",
    "            context.append(text)\n",
    "            \n",
    "    print(\"Context Length: \", len(tokenizer.encode(\"\\n\\n###\\n\\n\".join(context))))\n",
    "    final_prompt = prompt_template.format(\"\\n\\n###\\n\\n\".join(context), question)\n",
    "    \n",
    "    initial_answer = openai.Completion.create(\n",
    "    model=\"gpt-3.5-turbo-instruct\",\n",
    "    prompt=final_prompt,\n",
    "    max_tokens=150\n",
    "    )['choices'][0]['text']\n",
    "\n",
    "    return final_prompt, initial_answer"
   ]
  },
  {
   "cell_type": "code",
   "execution_count": 9,
   "id": "e55c5453",
   "metadata": {},
   "outputs": [],
   "source": [
    "def rag(df, question):\n",
    "    df_prep_01 = rag_prep_01(df=df, question=question)\n",
    "    final_prompt, initial_answer = rag_prep_02(df=df_prep_01, question=question)\n",
    "    return final_prompt, initial_answer\n",
    "\n",
    "def benchmark(question):\n",
    "    initial_answer = openai.Completion.create(\n",
    "    model=\"gpt-3.5-turbo-instruct\",\n",
    "    prompt=question,\n",
    "    max_tokens=150\n",
    "    )['choices'][0]['text']\n",
    "    \n",
    "    return question, initial_answer\n",
    "    "
   ]
  },
  {
   "cell_type": "markdown",
   "id": "1783f146",
   "metadata": {},
   "source": [
    "## Custom Performance Demonstration\n",
    "\n",
    "TODO: In the cells below, demonstrate the performance of your custom query using at least 2 questions. For each question, show the answer from a basic `Completion` model query as well as the answer from your custom query."
   ]
  },
  {
   "cell_type": "markdown",
   "id": "4f11fdc0",
   "metadata": {},
   "source": [
    "### Question 1"
   ]
  },
  {
   "cell_type": "code",
   "execution_count": 11,
   "id": "4901c850",
   "metadata": {},
   "outputs": [],
   "source": [
    "fashion_question_01 = \"I wanna go to Night Club. What clothes would you suggest I wear?\""
   ]
  },
  {
   "cell_type": "code",
   "execution_count": 12,
   "id": "bd7a093b",
   "metadata": {},
   "outputs": [
    {
     "name": "stdout",
     "output_type": "stream",
     "text": [
      "Context Length:  1886\n",
      "\n",
      "    Based on the context, I would recommend wearing lingerie-inspired clothes such as sheer and lace garments or dresses with bold colors and metallic finishes. You could also try layering a mesh top or dress with a leather jacket for a grunge-inspired look.\n"
     ]
    }
   ],
   "source": [
    "prompt, answer = rag(df=df, question=fashion_question_01)\n",
    "print(answer)"
   ]
  },
  {
   "cell_type": "code",
   "execution_count": null,
   "id": "e5166dc6",
   "metadata": {},
   "outputs": [],
   "source": [
    "print(prompt)"
   ]
  },
  {
   "cell_type": "markdown",
   "id": "d1bdee91",
   "metadata": {},
   "source": [
    "#### Benchmark"
   ]
  },
  {
   "cell_type": "code",
   "execution_count": 13,
   "id": "abd24c51",
   "metadata": {},
   "outputs": [
    {
     "name": "stdout",
     "output_type": "stream",
     "text": [
      "\n",
      "\n",
      "It depends on the type of night club and its dress code, but here are a few suggestions:\n",
      "\n",
      "1. For a trendy and modern night club, try a fitted top or crop top paired with high-waisted pants or a skirt and a statement pair of heels.\n",
      "2. If you're going to a hip-hop or R&B club, opt for a bold and flashy outfit such as a sequin dress, oversized t-shirt with biker shorts, or a jumpsuit with chunky jewelry.\n",
      "3. A classic little black dress paired with statement earrings and strappy heels is always a stylish option for any type of night club.\n",
      "4. If the night club has a more casual and relaxed vibe, you can also wear a stylish jumpsuit\n"
     ]
    }
   ],
   "source": [
    "prompt_bench, answer_bench = benchmark(question=fashion_question_01)\n",
    "print(answer_bench)"
   ]
  },
  {
   "cell_type": "code",
   "execution_count": 14,
   "id": "cb8984a0",
   "metadata": {},
   "outputs": [
    {
     "name": "stdout",
     "output_type": "stream",
     "text": [
      "I wanna go to Night Club. What clothes would you suggest I wear?\n"
     ]
    }
   ],
   "source": [
    "print(prompt_bench)"
   ]
  },
  {
   "cell_type": "markdown",
   "id": "6e86e37c",
   "metadata": {},
   "source": [
    "### Question 2"
   ]
  },
  {
   "cell_type": "code",
   "execution_count": null,
   "id": "6f646989",
   "metadata": {},
   "outputs": [],
   "source": [
    "fashion_question_02 = \"I need to meet my friends at the arcade. What clothes would you suggest I wear?\""
   ]
  },
  {
   "cell_type": "code",
   "execution_count": null,
   "id": "11c07a54",
   "metadata": {},
   "outputs": [],
   "source": [
    "prompt, answer = rag(df=df, question=fashion_question_02)\n",
    "print(answer)"
   ]
  },
  {
   "cell_type": "code",
   "execution_count": null,
   "id": "a489fbf7",
   "metadata": {},
   "outputs": [],
   "source": [
    "print(prompt)"
   ]
  },
  {
   "cell_type": "markdown",
   "id": "22fc4b3c",
   "metadata": {},
   "source": []
  }
 ],
 "metadata": {
  "kernelspec": {
   "display_name": "Python 3 (ipykernel)",
   "language": "python",
   "name": "python3"
  },
  "language_info": {
   "codemirror_mode": {
    "name": "ipython",
    "version": 3
   },
   "file_extension": ".py",
   "mimetype": "text/x-python",
   "name": "python",
   "nbconvert_exporter": "python",
   "pygments_lexer": "ipython3",
   "version": "3.9.18"
  }
 },
 "nbformat": 4,
 "nbformat_minor": 5
}
