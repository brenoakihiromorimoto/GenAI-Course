{
 "cells": [
  {
   "cell_type": "code",
   "execution_count": 74,
   "metadata": {},
   "outputs": [],
   "source": [
    "from __future__ import annotations\n",
    "import string\n",
    "import re\n",
    "import torch\n",
    "import torch.nn as nn\n",
    "import torch.optim as optim\n",
    "import transformers\n",
    "from torch.utils.data import DataLoader\n",
    "from transformers import AutoTokenizer\n",
    "\n",
    "from helper import (\n",
    "    start_time,\n",
    "    time_since,\n",
    "    ShakespeareDataset,\n",
    "    TokenMapping,\n",
    "    build_model,\n",
    "    next_token,\n",
    "    # Character-based helpers\n",
    "    encode_text,\n",
    "    # Subword-based helpers\n",
    "    encode_text_from_tokenizer,\n",
    "    tokenize_text_from_tokenizer,\n",
    ")"
   ]
  },
  {
   "cell_type": "code",
   "execution_count": 75,
   "metadata": {},
   "outputs": [
    {
     "name": "stdout",
     "output_type": "stream",
     "text": [
      "cuda:0\n"
     ]
    }
   ],
   "source": [
    "# Deterministic training\n",
    "torch.manual_seed(0)\n",
    "\n",
    "# Attempt GPU; if not, stay on CPU\n",
    "device = torch.device('cuda:0' if torch.cuda.is_available() else 'cpu')\n",
    "print(device)"
   ]
  },
  {
   "cell_type": "markdown",
   "metadata": {},
   "source": [
    "# Load Data"
   ]
  },
  {
   "cell_type": "code",
   "execution_count": 76,
   "metadata": {},
   "outputs": [
    {
     "name": "stdout",
     "output_type": "stream",
     "text": [
      "Number of characters in text file: 50,085\n"
     ]
    }
   ],
   "source": [
    "# Reduced data to make it manageable for smaller systems\n",
    "DATA_FILE: str = '../data/shakespeare_small.txt'\n",
    "\n",
    "with open(DATA_FILE, 'r') as data_file:\n",
    "    raw_text = data_file.read()\n",
    "\n",
    "print(f'Number of characters in text file: {len(raw_text):,}')"
   ]
  },
  {
   "cell_type": "markdown",
   "metadata": {},
   "source": [
    "# Character-Based Text Generation\n",
    "\n",
    "The first model you'll build for text generation will use character-based\n",
    "tokens.\n",
    "\n",
    "Each token will be a single character from the text and the model will learn\n",
    "to predict the next character (a token).\n",
    "\n",
    "To generate text, the model will take in a new string,\n",
    "character-by-character, and then generate a new likely character based on the\n",
    "past input. Then the model will take into account that new character and\n",
    "generate the following character and so on and so on until the model has\n",
    "produced a set number of characters."
   ]
  },
  {
   "cell_type": "markdown",
   "metadata": {},
   "source": [
    "## Encode Text into Integer Tokens"
   ]
  },
  {
   "cell_type": "markdown",
   "metadata": {},
   "source": [
    "### Normalization"
   ]
  },
  {
   "cell_type": "code",
   "execution_count": 77,
   "metadata": {},
   "outputs": [],
   "source": [
    "def normalize_text(text: str) -> str:\n",
    "    # TODO: Normalize incoming text; can be multiple actions\n",
    "    normalized_text = text.lower()\n",
    "    return normalized_text"
   ]
  },
  {
   "cell_type": "code",
   "execution_count": 78,
   "metadata": {},
   "outputs": [
    {
     "name": "stdout",
     "output_type": "stream",
     "text": [
      "first citizen:\n",
      "before we proceed any further, hear me speak.\n",
      "\n",
      "all:\n",
      "speak, speak.\n",
      "\n",
      "first citizen:\n",
      "you are all resolved rather to die than to famish?\n",
      "\n",
      "all:\n",
      "resolved. resolved.\n",
      "\n",
      "first citizen:\n",
      "first, you know caius marcius is chief enemy to the people.\n",
      "\n",
      "all:\n",
      "we know't, we know't.\n",
      "\n",
      "first citizen:\n",
      "let us kill him, and we'll have corn at our own price.\n",
      "is't a verdict?\n",
      "\n",
      "all:\n",
      "no more talking on't; let it be done: away, away!\n",
      "\n",
      "second citizen:\n",
      "one word, good citizens.\n",
      "\n",
      "first citizen:\n",
      "we are accounted poor\n"
     ]
    }
   ],
   "source": [
    "# TEST: Is your text normalized the way you expected?\n",
    "# Only the first 500 characters of the original text\n",
    "normalized_text = normalize_text(raw_text[:500])\n",
    "print(normalized_text)"
   ]
  },
  {
   "cell_type": "markdown",
   "metadata": {},
   "source": [
    "### Pretokenization"
   ]
  },
  {
   "cell_type": "code",
   "execution_count": 81,
   "metadata": {},
   "outputs": [],
   "source": [
    "def pretokenize_text(text: str) -> str | list[str]:\n",
    "    # TODO: Pretokenize normalized text into character strings\n",
    "    text_char = [char for char in text]\n",
    "    smaller_pieces = text_char\n",
    "    return smaller_pieces"
   ]
  },
  {
   "cell_type": "code",
   "execution_count": 82,
   "metadata": {},
   "outputs": [
    {
     "name": "stdout",
     "output_type": "stream",
     "text": [
      "['f', 'i', 'r', 's', 't', ' ', 'c', 'i', 't', 'i', 'z', 'e', 'n', ':', '\\n', 'b', 'e', 'f', 'o', 'r', 'e', ' ', 'w', 'e', ' ', 'p', 'r', 'o', 'c', 'e', 'e', 'd', ' ', 'a', 'n', 'y', ' ', 'f', 'u', 'r', 't', 'h', 'e', 'r', ',', ' ', 'h', 'e', 'a', 'r', ' ', 'm', 'e', ' ', 's', 'p', 'e', 'a', 'k', '.', '\\n', '\\n', 'a', 'l', 'l', ':', '\\n', 's', 'p', 'e', 'a', 'k', ',', ' ', 's', 'p', 'e', 'a', 'k', '.', '\\n', '\\n', 'f', 'i', 'r', 's', 't', ' ', 'c', 'i', 't', 'i', 'z', 'e', 'n', ':', '\\n', 'y', 'o', 'u', ' ', 'a', 'r', 'e', ' ', 'a', 'l', 'l', ' ', 'r', 'e', 's', 'o', 'l', 'v', 'e', 'd', ' ', 'r', 'a', 't', 'h', 'e', 'r', ' ', 't', 'o', ' ', 'd', 'i', 'e', ' ', 't', 'h', 'a', 'n', ' ', 't', 'o', ' ', 'f', 'a', 'm', 'i', 's', 'h', '?', '\\n', '\\n', 'a', 'l', 'l', ':', '\\n', 'r', 'e', 's', 'o', 'l', 'v', 'e', 'd', '.', ' ', 'r', 'e', 's', 'o', 'l', 'v', 'e', 'd', '.', '\\n', '\\n', 'f', 'i', 'r', 's', 't', ' ', 'c', 'i', 't', 'i', 'z', 'e', 'n', ':', '\\n', 'f', 'i', 'r', 's', 't', ',', ' ', 'y', 'o', 'u', ' ', 'k', 'n', 'o', 'w', ' ', 'c', 'a', 'i', 'u', 's', ' ', 'm', 'a', 'r', 'c', 'i', 'u', 's', ' ', 'i', 's', ' ', 'c', 'h', 'i', 'e', 'f', ' ', 'e', 'n', 'e', 'm', 'y', ' ', 't', 'o', ' ', 't', 'h', 'e', ' ', 'p', 'e', 'o', 'p', 'l', 'e', '.', '\\n', '\\n', 'a', 'l', 'l', ':', '\\n', 'w', 'e', ' ', 'k', 'n', 'o', 'w', \"'\", 't', ',', ' ', 'w', 'e', ' ', 'k', 'n', 'o', 'w', \"'\", 't', '.', '\\n', '\\n', 'f', 'i', 'r', 's', 't', ' ', 'c', 'i', 't', 'i', 'z', 'e', 'n', ':', '\\n', 'l', 'e', 't', ' ', 'u', 's', ' ', 'k', 'i', 'l', 'l', ' ', 'h', 'i', 'm', ',', ' ', 'a', 'n', 'd', ' ', 'w', 'e', \"'\", 'l', 'l', ' ', 'h', 'a', 'v', 'e', ' ', 'c', 'o', 'r', 'n', ' ', 'a', 't', ' ', 'o', 'u', 'r', ' ', 'o', 'w', 'n', ' ', 'p', 'r', 'i', 'c', 'e', '.', '\\n', 'i', 's', \"'\", 't', ' ', 'a', ' ', 'v', 'e', 'r', 'd', 'i', 'c', 't', '?', '\\n', '\\n', 'a', 'l', 'l', ':', '\\n', 'n', 'o', ' ', 'm', 'o', 'r', 'e', ' ', 't', 'a', 'l', 'k', 'i', 'n', 'g', ' ', 'o', 'n', \"'\", 't', ';', ' ', 'l', 'e', 't', ' ', 'i', 't', ' ', 'b', 'e', ' ', 'd', 'o', 'n', 'e', ':', ' ', 'a', 'w', 'a', 'y', ',', ' ', 'a', 'w', 'a', 'y', '!', '\\n', '\\n', 's', 'e', 'c', 'o', 'n', 'd', ' ', 'c', 'i', 't', 'i', 'z', 'e', 'n', ':', '\\n', 'o', 'n', 'e', ' ', 'w', 'o', 'r', 'd', ',', ' ', 'g', 'o', 'o', 'd', ' ', 'c', 'i', 't', 'i', 'z', 'e', 'n', 's', '.', '\\n', '\\n', 'f', 'i', 'r', 's', 't', ' ', 'c', 'i', 't', 'i', 'z', 'e', 'n', ':', '\\n', 'w', 'e', ' ', 'a', 'r', 'e', ' ', 'a', 'c', 'c', 'o', 'u', 'n', 't', 'e', 'd', ' ', 'p', 'o', 'o', 'r']\n"
     ]
    }
   ],
   "source": [
    "# TEST: Is your (normalized) text pretokenized the way you expected?\n",
    "# Only the first 500 characters of the original text\n",
    "pretokenized_text = pretokenize_text(normalized_text)\n",
    "print(pretokenized_text)"
   ]
  },
  {
   "cell_type": "markdown",
   "metadata": {},
   "source": [
    "### Tokenize"
   ]
  },
  {
   "cell_type": "code",
   "execution_count": 101,
   "metadata": {},
   "outputs": [],
   "source": [
    "# Combine normalization and pretokenization steps\n",
    "def tokenize_text(text: str) -> str | list[str]:\n",
    "    normalized_text: str = normalize_text(text)\n",
    "    pretokenized_text: str | list[str] = pretokenize_text(normalized_text)\n",
    "    # Characters are already tokens so pretokenized text is already tokenized\n",
    "    tokens = []\n",
    "    for word in pretokenized_text:\n",
    "        tokens.extend(\n",
    "            re.findall(\n",
    "                f\"[\\w]+|[{string.punctuation}]\", \n",
    "                word\n",
    "            )\n",
    "        )\n",
    "    tokenized_text = tokens  \n",
    "    return tokenized_text"
   ]
  },
  {
   "cell_type": "code",
   "execution_count": 102,
   "metadata": {},
   "outputs": [
    {
     "name": "stdout",
     "output_type": "stream",
     "text": [
      "['f', 'i', 'r', 's', 't', 'c', 'i', 't', 'i', 'z', 'e', 'n', ':', 'b', 'e', 'f', 'o', 'r', 'e', 'w', 'e', 'p', 'r', 'o', 'c', 'e', 'e', 'd', 'a', 'n', 'y', 'f', 'u', 'r', 't', 'h', 'e', 'r', ',', 'h', 'e', 'a', 'r', 'm', 'e', 's', 'p', 'e', 'a', 'k', '.', 'a', 'l', 'l', ':', 's', 'p', 'e', 'a', 'k', ',', 's', 'p', 'e', 'a', 'k', '.', 'f', 'i', 'r', 's', 't', 'c', 'i', 't', 'i', 'z', 'e', 'n', ':', 'y', 'o', 'u', 'a', 'r', 'e', 'a', 'l', 'l', 'r', 'e', 's', 'o', 'l', 'v', 'e', 'd', 'r', 'a', 't', 'h', 'e', 'r', 't', 'o', 'd', 'i', 'e', 't', 'h', 'a', 'n', 't', 'o', 'f', 'a', 'm', 'i', 's', 'h', '?', 'a', 'l', 'l', ':', 'r', 'e', 's', 'o', 'l', 'v', 'e', 'd', '.', 'r', 'e', 's', 'o', 'l', 'v', 'e', 'd', '.', 'f', 'i', 'r', 's', 't', 'c', 'i', 't', 'i', 'z', 'e', 'n', ':', 'f', 'i', 'r', 's', 't', ',', 'y', 'o', 'u', 'k', 'n', 'o', 'w', 'c', 'a', 'i', 'u', 's', 'm', 'a', 'r', 'c', 'i', 'u', 's', 'i', 's', 'c', 'h', 'i', 'e', 'f', 'e', 'n', 'e', 'm', 'y', 't', 'o', 't', 'h', 'e', 'p', 'e', 'o', 'p', 'l', 'e', '.', 'a', 'l', 'l', ':', 'w', 'e', 'k', 'n', 'o', 'w', \"'\", 't', ',', 'w', 'e', 'k', 'n', 'o', 'w', \"'\", 't', '.', 'f', 'i', 'r', 's', 't', 'c', 'i', 't', 'i', 'z', 'e', 'n', ':', 'l', 'e', 't', 'u', 's', 'k', 'i', 'l', 'l', 'h', 'i', 'm', ',', 'a', 'n', 'd', 'w', 'e', \"'\", 'l', 'l', 'h', 'a', 'v', 'e', 'c', 'o', 'r', 'n', 'a', 't', 'o', 'u', 'r', 'o', 'w', 'n', 'p', 'r', 'i', 'c', 'e', '.', 'i', 's', \"'\", 't', 'a', 'v', 'e', 'r', 'd', 'i', 'c', 't', '?', 'a', 'l', 'l', ':', 'n', 'o', 'm', 'o', 'r', 'e', 't', 'a', 'l', 'k', 'i', 'n', 'g', 'o', 'n', \"'\", 't', ';', 'l', 'e', 't', 'i', 't', 'b', 'e', 'd', 'o', 'n', 'e', ':', 'a', 'w', 'a', 'y', ',', 'a', 'w', 'a', 'y', '!', 's', 'e', 'c', 'o', 'n', 'd', 'c', 'i', 't', 'i', 'z', 'e', 'n', ':', 'o', 'n', 'e', 'w', 'o', 'r', 'd', ',', 'g', 'o', 'o', 'd', 'c', 'i', 't', 'i', 'z', 'e', 'n', 's', '.', 'f', 'i', 'r', 's', 't', 'c', 'i', 't', 'i', 'z', 'e', 'n', ':', 'w', 'e', 'a', 'r', 'e', 'a', 'c', 'c', 'o', 'u', 'n', 't', 'e', 'd', 'p', 'o', 'o', 'r']\n"
     ]
    }
   ],
   "source": [
    "# TEST: Is your tokenized text the way you expected?\n",
    "tokenized_text = tokenize_text(raw_text[:500])\n",
    "print(tokenized_text)"
   ]
  },
  {
   "cell_type": "markdown",
   "metadata": {},
   "source": [
    "### Postprocessing\n",
    "\n",
    "We'll skip postprocessing since we don't have any special tokens we want to\n",
    "consider for our task here."
   ]
  },
  {
   "cell_type": "markdown",
   "metadata": {},
   "source": [
    "### Encode (Tokens → Integer IDs)\n",
    "\n",
    "We have `encode_text()` from our helper module that can encode our text based on\n",
    "our tokenization process from our created `tokenize_text()` function.\n",
    "\n",
    "This will also provide us with `character_mapping`, an object that we can use to\n",
    "map our tokens back and forth from strings to integer IDs."
   ]
  },
  {
   "cell_type": "code",
   "execution_count": 103,
   "metadata": {},
   "outputs": [],
   "source": [
    "encoded_text, character_mapping = encode_text(raw_text, tokenize_text)"
   ]
  },
  {
   "cell_type": "markdown",
   "metadata": {},
   "source": [
    "## Prepare Dataset"
   ]
  },
  {
   "cell_type": "code",
   "execution_count": 104,
   "metadata": {},
   "outputs": [
    {
     "name": "stdout",
     "output_type": "stream",
     "text": [
      "Size of dataset: 40,772 characters\n"
     ]
    }
   ],
   "source": [
    "n_tokens = character_mapping.n_tokens\n",
    "dataset_size = len(encoded_text)\n",
    "print(f'Size of dataset: {dataset_size:,} characters')"
   ]
  },
  {
   "cell_type": "code",
   "execution_count": 105,
   "metadata": {},
   "outputs": [],
   "source": [
    "# Defining sequence length that will be taken in at a time by our model\n",
    "sequence_length = 32 # Number of characters\n",
    "batch_size = 32\n",
    "\n",
    "train_dataset = ShakespeareDataset(encoded_text, sequence_length)\n",
    "train_loader = DataLoader(\n",
    "    train_dataset,\n",
    "    shuffle=False, # Ensure deterministic training\n",
    "    batch_size=batch_size,\n",
    ")"
   ]
  },
  {
   "cell_type": "markdown",
   "metadata": {},
   "source": [
    "## Define Model\n",
    "\n",
    "We'll provide a defined model today, but this could be a step that you would\n",
    "modify and experiment in other NLP projects you'll do."
   ]
  },
  {
   "cell_type": "code",
   "execution_count": 106,
   "metadata": {},
   "outputs": [],
   "source": [
    "# Defining the model to be trained and generate text with\n",
    "model = build_model(n_tokens)\n",
    "model.to(device)\n",
    "criterion = nn.CrossEntropyLoss()\n",
    "optimizer = optim.Adam(model.parameters())"
   ]
  },
  {
   "cell_type": "markdown",
   "metadata": {},
   "source": [
    "## Define Text Generation\n",
    "\n",
    "The `generate_text_by_char()` function will use your tokenizer and NLP model to\n",
    "generate new text token-by-token (character-by-character in this case) by taking\n",
    "in the input text and token sampling parameters.\n",
    "\n",
    "We can use temperature and top-k sampling to adjust the \"creativeness\" of the\n",
    "generated text.\n",
    "\n",
    "We also pass in the `num_chars` parameter to tell the function how many tokens\n",
    "(characters in this case) to generate."
   ]
  },
  {
   "cell_type": "code",
   "execution_count": 107,
   "metadata": {},
   "outputs": [],
   "source": [
    "def generate_text_by_char(\n",
    "    input_str: str,\n",
    "    model,\n",
    "    token_mapping: TokenMapping = character_mapping,\n",
    "    num_chars: int = 100,\n",
    "    temperature: float = 1.0,\n",
    "    topk: int | None = None,\n",
    ") -> str:\n",
    "    # Uses your character-based tokenizer\n",
    "    tokenized_text: list[str] = tokenize_text(input_str)\n",
    "    # Generates token-by-token and creates a list of those tokens\n",
    "    generated_tokens = []\n",
    "    for _ in range(num_chars):\n",
    "        # Uses the input text and generated text (so far) to get next token\n",
    "        new_char = next_token(\n",
    "            tokenized_text=(tokenized_text + generated_tokens),\n",
    "            model=model,\n",
    "            token_mapping=token_mapping,\n",
    "            # Temperature & top-k sampling used in determining the next token\n",
    "            temperature=temperature,\n",
    "            topk=topk,\n",
    "            device=device,\n",
    "        )\n",
    "        generated_tokens.append(new_char)\n",
    "    # Returns input string plus the full generated string (of generated tokens)\n",
    "    full_text = ''.join(tokenized_text + generated_tokens)\n",
    "    return full_text"
   ]
  },
  {
   "cell_type": "markdown",
   "metadata": {},
   "source": [
    "## Train Model\n",
    "\n",
    "At this point, the model has not been trained so the code below will train the\n",
    "NLP model that will be used to generate new text.\n",
    "\n",
    "The model will take in the text data (broken by tokens by our character-based\n",
    "tokenizer) and attempt to predict the next token. Over time, the model should\n",
    "hopefully get better in predicting the next token (given the previous text).\n",
    "\n",
    "To help us visualize how the model is training, at the end of every epoch, we\n",
    "generate text using the `TEST_PHRASE` with the improving model."
   ]
  },
  {
   "cell_type": "code",
   "execution_count": 108,
   "metadata": {},
   "outputs": [
    {
     "name": "stdout",
     "output_type": "stream",
     "text": [
      "Epoch 1/25, Loss: 2.767516397606447\n",
      "[00m 4.3s (0 0.0) 2.4843]\n",
      "------------------------------------------------------------------------\n",
      "tobeornottoberarerateves:ecobecertoanderhersomtowcelowhenct'suthayhercorldorehipomroury-ulthetimthengwhanlorceori\n",
      "Epoch 2/25, Loss: 2.5286441466871947\n",
      "[00m 8.7s (1 4.0) 2.3528]\n",
      "------------------------------------------------------------------------\n",
      "tobeornottobeloendsythancocedevecodyour:mutsortemthormeluldegovhyourcisswislantemysatheraprithacordorthesoficises\n",
      "Epoch 3/25, Loss: 2.4369186758059347\n",
      "[00m 13.3s (2 8.0) 2.2618]\n",
      "------------------------------------------------------------------------\n",
      "tobeornottobe,um,inttheptatatepilardthesehbutdoshelitestedsirintheregfathereat.averardileolutartcandtomsvospopeer\n",
      "Epoch 4/25, Loss: 2.374263944206657\n",
      "[00m 17.8s (3 12.0) 2.1747]\n",
      "------------------------------------------------------------------------\n",
      "tobeornottobeia,omeatyfortherethehim;alvbtec,bous,thatlvoudtotheraticinstleg;sonkthouldhaveroveryatbraa:thebuthat\n",
      "Epoch 5/25, Loss: 2.327949728658847\n",
      "[00m 22.3s (4 16.0) 2.1119]\n",
      "------------------------------------------------------------------------\n",
      "tobeornottobeswort!aradiefandser:my;acemumnaurdhatossearttheninefatin,ththeeruptofhemateraplfoyounoysecondto,form\n",
      "Epoch 6/25, Loss: 2.29281609820047\n",
      "[00m 26.8s (5 20.0) 2.0674]\n",
      "------------------------------------------------------------------------\n",
      "tobeornottobecia:fillbenyou'sorthesanaur,wendin,andwitevarnosfricer,offirsthat'heyouria:torearchentolhemdhiandyou\n",
      "Epoch 7/25, Loss: 2.265541214864333\n",
      "[00m 31.4s (6 24.0) 2.0344]\n",
      "------------------------------------------------------------------------\n",
      "tobeornottobe,wreeorintheberwatdossorthegodlavehemneanenius:matticoursthougrhemenivellotronfithathouprite,mad,cot\n",
      "Epoch 8/25, Loss: 2.2435590705280215\n",
      "[00m 36.1s (7 28.000000000000004) 2.0096]\n",
      "------------------------------------------------------------------------\n",
      "tobeornottobe'meshiugooeriacthecairethehelly'd!hemchimmort:maktheefo'theedrouseirhingreaty't'meousorethgeemtitash\n",
      "Epoch 9/25, Loss: 2.225205260599427\n",
      "[00m 40.6s (8 32.0) 1.9918]\n",
      "------------------------------------------------------------------------\n",
      "tobeornottobetle:;ihoundeveithersticeadterthelontom;imavehich.theygrof,feols,nowtharsformakingsomerandmenefecevlw\n",
      "Epoch 10/25, Loss: 2.209461498017214\n",
      "[00m 45.2s (9 36.0) 1.9808]\n",
      "------------------------------------------------------------------------\n",
      "tobeornottobenedingloastsonomavaniosbuttovepeodwandreleirbakeofprutubmorethucome,tolete'scondothesfnerinersencith\n",
      "Epoch 11/25, Loss: 2.195990724877997\n",
      "[00m 49.7s (10 40.0) 1.9738]\n",
      "------------------------------------------------------------------------\n",
      "tobeornottobesold.vareter:ifialltiw,malttendyou.munt.thissthecoriolingseinfier.mutuctopreminoff.larcius,youthepor\n",
      "Epoch 12/25, Loss: 2.1843930348122327\n",
      "[00m 53.9s (11 44.0) 1.9681]\n",
      "------------------------------------------------------------------------\n",
      "tobeornottobeof,hatousebrenclikedhourdesromeoughmim.'avotobseshisnowwalyconurssayontole.ast:thimpo'thericauspriwe\n",
      "Epoch 13/25, Loss: 2.1741776366248797\n",
      "[00m 58.1s (12 48.0) 1.9625]\n",
      "------------------------------------------------------------------------\n",
      "tobeornottobenotionnomerepthepod,toofly-wendylaveno,whatseailleticent?isgreedmatiandserof.metosethourpise.aththat\n",
      "Epoch 14/25, Loss: 2.1650136762548655\n",
      "[01m 2.4s (13 52.0) 1.9575]\n",
      "------------------------------------------------------------------------\n",
      "tobeornottobeteop:iformyfidlenevorlave.micksomatodiout.lie.seathiswiollbeses'toveastotheir,matiendelmmakemuehinth\n",
      "Epoch 15/25, Loss: 2.1567161154335297\n",
      "[01m 6.5s (14 56.00000000000001) 1.9529]\n",
      "------------------------------------------------------------------------\n",
      "tobeornottobecotit!'d,theming!tehesearawide.sicksheortoffirstforenoslentrows,ther,vimseercitizes:not--seest;areof\n",
      "Epoch 16/25, Loss: 2.1491457416648205\n",
      "[01m 10.6s (15 60.0) 1.9487]\n",
      "------------------------------------------------------------------------\n",
      "tobeornottoberingervewerdospothythei'comy,molvemnerares.brood,theremyle:helughimenownomeofbyourwhonoperforthaddos\n",
      "Epoch 17/25, Loss: 2.14221528551455\n",
      "[01m 14.7s (16 64.0) 1.9455]\n",
      "------------------------------------------------------------------------\n",
      "tobeornottobecsand?a:aheeldfeedletheiruvecompand.wherethatewettowerainmind?gouteowherthithtotheerleaugoveandtos;i\n",
      "Epoch 18/25, Loss: 2.1359047475190516\n",
      "[01m 18.8s (17 68.0) 1.9437]\n",
      "------------------------------------------------------------------------\n",
      "tobeornottobechathithertheirg.alumfricisisall:ler;andbeast'tickailloreitwener!al,vouthermesespearumannomimenwwher\n",
      "Epoch 19/25, Loss: 2.1301611197799493\n",
      "[01m 22.9s (18 72.0) 1.9435]\n",
      "------------------------------------------------------------------------\n",
      "tobeornottobe.marcius,andcome:greas,theiratu,wherefitius.meroneinislatowinsspeepforcourstingnow,chisorelosehewery\n",
      "Epoch 20/25, Loss: 2.1249239596317477\n",
      "[01m 27.0s (19 76.0) 1.9441]\n",
      "------------------------------------------------------------------------\n",
      "tobeornottobebreanetispinknot,firsttetsvolumnotyourotherwalm,topredeingand,sirepeadpercothehaveheonpthencewithlek\n",
      "Epoch 21/25, Loss: 2.1201250540031182\n",
      "[01m 31.4s (20 80.0) 1.9438]\n",
      "------------------------------------------------------------------------\n",
      "tobeornottobespec-pangeat,thinginworkbene,youaf,nendeestitoneseshimeustwelscomlelethewenouldseeiseave:tothepeandt\n",
      "Epoch 22/25, Loss: 2.1156761983125887\n",
      "[01m 35.6s (21 84.0) 1.9414]\n",
      "------------------------------------------------------------------------\n",
      "tobeornottobeproundofefrie.comirscoelstlregayfollowsneandebutistheirechichofouldsandtotheysastotheywhattheirankre\n",
      "Epoch 23/25, Loss: 2.1115315229963842\n",
      "[01m 39.8s (22 88.0) 1.9383]\n",
      "------------------------------------------------------------------------\n",
      "tobeornottobestshatthemydrecttoheshemanisthentosinguponaplekthereetherewhatamer:you,nodosemadidettrowathaltwerest\n",
      "Epoch 24/25, Loss: 2.1076571532471027\n",
      "[01m 44.1s (23 92.0) 1.9342]\n",
      "------------------------------------------------------------------------\n",
      "tobeornottoberitsararionthatgram,meatrat's,in'thengecersectiresulputprastlechetthegotdontheharneniusbusammenworth\n",
      "Epoch 25/25, Loss: 2.104006589207582\n",
      "[01m 48.2s (24 96.0) 1.9290]\n",
      "------------------------------------------------------------------------\n",
      "tobeornottobet'gaicthanceptheresoft.seir,whatintorispoce,folumnitiznmtofthetothecaiuldesincencowofmakeoblecauchth\n"
     ]
    }
   ],
   "source": [
    "TEST_PHRASE = 'To be or not to be'\n",
    "# Use more epochs if not CPU device\n",
    "epochs = 5 if device == 'cpu' else 25\n",
    "\n",
    "start = start_time()\n",
    "for epoch in range(epochs):\n",
    "    # Set model into \"training mode\"\n",
    "    model.train()\n",
    "    total_loss = 0\n",
    "    for X_batch, y_batch in train_loader:\n",
    "        optimizer.zero_grad()\n",
    "        output = model(X_batch.to(device))\n",
    "        loss = criterion(output.transpose(1, 2), y_batch.to(device))\n",
    "        loss.backward()\n",
    "        optimizer.step()\n",
    "        total_loss += loss.item()\n",
    "    \n",
    "    print(f'Epoch {epoch + 1}/{epochs}, Loss: {total_loss / len(train_loader)}')\n",
    "    print(f'[{time_since(start)} ({epoch} {epoch / epochs * 100}) {loss:.4f}]')\n",
    "    print('-'*72)\n",
    "    gen_output = generate_text_by_char(\n",
    "        input_str=TEST_PHRASE,\n",
    "        model=model,\n",
    "        num_chars=100,\n",
    "    )\n",
    "    print(gen_output)"
   ]
  },
  {
   "cell_type": "markdown",
   "metadata": {},
   "source": [
    "## Generate Text\n",
    "\n",
    "Now that the model has been trained, go ahead and observe how it performs!\n",
    "\n",
    "Try adjusting the different sampling methods using the `temperature` and `topk`\n",
    "parameters on the same input string to see the differences.\n",
    "\n",
    "You might also try different phrases as well as how many tokens (`num_chars`) to\n",
    "generate and observe how it does."
   ]
  },
  {
   "cell_type": "code",
   "execution_count": 117,
   "metadata": {},
   "outputs": [
    {
     "name": "stdout",
     "output_type": "stream",
     "text": [
      "tobeornottobeandtothemancessuchatintheyly:henthemancenay,youratherseasterfliesstates,thatthepeandthepeation,windo\n"
     ]
    }
   ],
   "source": [
    "output = generate_text_by_char(\n",
    "    input_str='To be or not to be',\n",
    "    model=model,\n",
    "    num_chars=100,\n",
    "    temperature=0.5,\n",
    "    topk=100,\n",
    ")\n",
    "print(output)"
   ]
  },
  {
   "cell_type": "markdown",
   "metadata": {},
   "source": [
    "# Subword Text Generation\n",
    "\n",
    "The next model you'll build will use subword-tokenization instead of \n",
    "characters-based token to train a model and ultimately generate new text\n",
    "token-by-token.\n",
    "\n",
    "Although this could be done by creating your own tokenizer, you'll use\n",
    "Hugging Face to use a pretrained tokenizer to tokenize the data.\n",
    "\n",
    "After training the model with subword tokens, \n",
    "the model will take in a new string, token-by-token, and then generate a new\n",
    "token (subword).\n",
    "The model will continue producing new subword tokens based on the input text\n",
    "and already produced tokens until a set number of tokens have been generated."
   ]
  },
  {
   "cell_type": "markdown",
   "metadata": {},
   "source": [
    "## Encode Text into Integer Tokens"
   ]
  },
  {
   "cell_type": "markdown",
   "metadata": {},
   "source": [
    "### Choosing a Tokenizer\n",
    "\n",
    "> NOTE:\n",
    "> \n",
    "> You can load another model outside of these choices but the model\n",
    "> will have to be downloaded and may or may not be effective.\n",
    ">\n",
    "> If you'd like to explore more, here's a link to you might want to start with\n",
    "> of different available pretrained models on Hugging Face:\n",
    "> https://huggingface.co/models?pipeline_tag=text-generation"
   ]
  },
  {
   "cell_type": "code",
   "execution_count": 118,
   "metadata": {},
   "outputs": [
    {
     "data": {
      "application/vnd.jupyter.widget-view+json": {
       "model_id": "a60c531b660b4ec488f84a41a89a5596",
       "version_major": 2,
       "version_minor": 0
      },
      "text/plain": [
       "tokenizer_config.json:   0%|          | 0.00/25.0 [00:00<?, ?B/s]"
      ]
     },
     "metadata": {},
     "output_type": "display_data"
    }
   ],
   "source": [
    "# TODO: Choose a pretrained tokenizer to use:\n",
    "\n",
    "# Docs: https://huggingface.co/xlm-roberta-base\n",
    "model_name = 'xlm-roberta-base'\n",
    "# DOCS: https://huggingface.co/bert-base-cased\n",
    "# model_name = 'bert-base-cased'\n",
    "# DOCS: https://huggingface.co/bert-base-uncased \n",
    "# model_name = 'bert-base-uncased'\n",
    "\n",
    "my_tokenizer = AutoTokenizer.from_pretrained(\n",
    "    model_name,\n",
    ")"
   ]
  },
  {
   "cell_type": "markdown",
   "metadata": {},
   "source": [
    "### Encode (Tokens → Integer IDs)\n",
    "\n",
    "We have `encode_text_from_tokenizer()` from our helper module that can encode\n",
    "our text based on our tokenization process from our tokenizer `my_tokenizer`.\n",
    "\n",
    "This will also provide us with `token_mapping`, an object that we can use to\n",
    "map our tokens back and forth from strings to integer IDs."
   ]
  },
  {
   "cell_type": "code",
   "execution_count": 119,
   "metadata": {},
   "outputs": [],
   "source": [
    "encoded_text, token_mapping = encode_text_from_tokenizer(\n",
    "    text=raw_text,\n",
    "    tokenizer=my_tokenizer,\n",
    ")"
   ]
  },
  {
   "cell_type": "markdown",
   "metadata": {},
   "source": [
    "## Prepare Dataset"
   ]
  },
  {
   "cell_type": "code",
   "execution_count": 120,
   "metadata": {},
   "outputs": [
    {
     "name": "stdout",
     "output_type": "stream",
     "text": [
      "Size of dataset: 14,374 tokens\n"
     ]
    }
   ],
   "source": [
    "n_tokens = token_mapping.n_tokens\n",
    "dataset_size = len(encoded_text)\n",
    "print(f'Size of dataset: {dataset_size:,} tokens')"
   ]
  },
  {
   "cell_type": "code",
   "execution_count": 121,
   "metadata": {},
   "outputs": [],
   "source": [
    "# Defining sequence length that will be taken in at a time by our model\n",
    "sequence_length = 32 # Number of tokens\n",
    "batch_size = 32\n",
    "\n",
    "train_dataset = ShakespeareDataset(encoded_text, sequence_length)\n",
    "train_loader = DataLoader(\n",
    "    train_dataset,\n",
    "    shuffle=False, # Ensure deterministic training\n",
    "    batch_size=batch_size,\n",
    ")"
   ]
  },
  {
   "cell_type": "markdown",
   "metadata": {},
   "source": [
    "## Define Model\n",
    "\n",
    "We'll provide a defined model today, but this could be a step that you would\n",
    "modify and experiment in other NLP projects you'll do."
   ]
  },
  {
   "cell_type": "code",
   "execution_count": 122,
   "metadata": {},
   "outputs": [],
   "source": [
    "# Defining the model to be trained and generate text with\n",
    "model = build_model(n_tokens)\n",
    "model.to(device)\n",
    "criterion = nn.CrossEntropyLoss()\n",
    "optimizer = optim.Adam(model.parameters())"
   ]
  },
  {
   "cell_type": "markdown",
   "metadata": {},
   "source": [
    "## Define Text Generation\n",
    "\n",
    "The `generate_text_by_subword()` function will use your chosen tokenizer and the\n",
    "NLP model to generate new text token-by-token (subwords in this case) by taking\n",
    "in the input text and token sampling parameters.\n",
    "\n",
    "We can use temperature and top-k sampling to adjust the \"creativeness\" of the\n",
    "generated text.\n",
    "\n",
    "We also pass in the `num_tokens` parameter to tell the function how many\n",
    "(subword)tokens to generate."
   ]
  },
  {
   "cell_type": "code",
   "execution_count": 123,
   "metadata": {},
   "outputs": [],
   "source": [
    "def generate_text_by_subword(\n",
    "    input_str: str,\n",
    "    model,\n",
    "    token_mapping: TokenMapping = token_mapping,\n",
    "    tokenizer = my_tokenizer,\n",
    "    num_tokens: int = 100,\n",
    "    temperature: float = 1.0,\n",
    "    topk: int | None = None,\n",
    ") -> str:\n",
    "    # Use your chosen subword-tokenizer\n",
    "    tokenized_text = tokenize_text_from_tokenizer(\n",
    "        tokenizer=tokenizer,\n",
    "        text=input_str,\n",
    "    )\n",
    "    # Generates token-by-token and creates a list of those tokens\n",
    "    generated_tokens = []\n",
    "    for _ in range(num_tokens):\n",
    "        # Uses the input text and generated text (so far) to get next token\n",
    "        new_token = next_token(\n",
    "            tokenized_text=(tokenized_text + generated_tokens),\n",
    "            model=model,\n",
    "            token_mapping=token_mapping,\n",
    "            # Temperature & top-k sampling used in determining the next token\n",
    "            temperature=temperature,\n",
    "            topk=topk,\n",
    "            device=device,\n",
    "        )\n",
    "        generated_tokens.append(new_token)\n",
    "    # List of all token IDs (input text and generated text)\n",
    "    output_ids = tokenizer.convert_tokens_to_ids(\n",
    "        tokenized_text + generated_tokens\n",
    "    )\n",
    "    # Returns input string plus the full generated string from list of token IDs\n",
    "    full_text = tokenizer.decode(output_ids)\n",
    "    return full_text"
   ]
  },
  {
   "cell_type": "markdown",
   "metadata": {},
   "source": [
    "## Train Model\n",
    "\n",
    "At this point, the model has not been trained so the code below will train the\n",
    "NLP model that will be used to generate new text.\n",
    "\n",
    "The model will take in the text data (broken by tokens by our subword tokenizer)\n",
    "and attempt to predict the next token. Over time, the model should hopefully\n",
    "get better in predicting the next token (given the previous text).\n",
    "\n",
    "To help us visualize how the model is training, at the end of every epoch, we\n",
    "generate text using the `TEST_PHRASE` with the improving model."
   ]
  },
  {
   "cell_type": "code",
   "execution_count": 124,
   "metadata": {},
   "outputs": [
    {
     "name": "stdout",
     "output_type": "stream",
     "text": [
      "Epoch 1/25, Loss: 6.734403049494482\n",
      "[00m 1.7s (0 0.0) 5.7719]\n",
      "------------------------------------------------------------------------\n",
      "To be or not to be. andid shall keep tou o yesque mennus lie from he Yous to king king guard Sincebrook good: makes,, will mada\n",
      "Epoch 2/25, Loss: 6.114242546276951\n",
      "[00m 3.3s (1 4.0) 5.2264]\n",
      "------------------------------------------------------------------------\n",
      "To be or not to be hat in heard Norsable benius makes c thi greatmitNIAnt these totiuss uponad you The of-.'sius'\n",
      "Epoch 3/25, Loss: 5.802356508633077\n",
      "[00m 4.8s (2 8.0) 4.8211]\n",
      "------------------------------------------------------------------------\n",
      "To be or not to be matter at manys?' was a gar: and mebs Ial hour True valies my those Cor, helpge; choice VOLUMius\n",
      "Epoch 4/25, Loss: 5.506025456638803\n",
      "[00m 6.4s (3 12.0) 4.5853]\n",
      "------------------------------------------------------------------------\n",
      "To be or not to be kindes comes,tors own where with likeabsence body sent.NUSm guarde the wear grow, We The sincer MENENIUS: O,\n",
      "Epoch 5/25, Loss: 5.260092341820222\n",
      "[00m 8.0s (4 16.0) 4.4236]\n",
      "------------------------------------------------------------------------\n",
      "To be or not to be smo ofers ofancece circum survey ton the bestber Auf Comes in prisonther still do so Your Gal reven Than: The find, Who\n",
      "Epoch 6/25, Loss: 5.055994749069214\n",
      "[00m 9.6s (5 20.0) 4.3017]\n",
      "------------------------------------------------------------------------\n",
      "To be or not to betismish thu, says our roshow their Gal abouted's siler eyes his singulared histionettce nerves to only beg\n",
      "Epoch 7/25, Loss: 4.883589668635005\n",
      "[00m 11.1s (6 24.0) 4.1996]\n",
      "------------------------------------------------------------------------\n",
      "To be or not to be Forvan morning their more? Senator: mut one always not sore news for the God be discoversved the rest Ore What the letter. MEN\n",
      "Epoch 8/25, Loss: 4.73287494570216\n",
      "[00m 12.7s (7 28.000000000000004) 4.1075]\n",
      "------------------------------------------------------------------------\n",
      "To be or not to beards, toeds togi ear. IsUF des Capitol: He more that nothing abunda half-like must is, I can but In\n",
      "Epoch 9/25, Loss: 4.597532791655951\n",
      "[00m 14.3s (8 32.0) 4.0211]\n",
      "------------------------------------------------------------------------\n",
      "To be or not to be trumpest? live pleased,eks'd? God rich for the river on: suggest shadow the worlds for reven almost, and highest him.\n",
      "Epoch 10/25, Loss: 4.473697208349317\n",
      "[00m 15.8s (9 36.0) 3.9378]\n",
      "------------------------------------------------------------------------\n",
      "To be or not to betous for. love: but Ti truly shall they they And na fort goes'd to a lived to be journey. VOLUMNIA: bla\n",
      "Epoch 11/25, Loss: 4.358932597600006\n",
      "[00m 17.4s (10 40.0) 3.8561]\n",
      "------------------------------------------------------------------------\n",
      "To be or not to beft,ld this's nor service held your serveing my better lady we do boy it, there's ni this: Now thely-\n",
      "Epoch 12/25, Loss: 4.251754247797093\n",
      "[00m 18.9s (11 44.0) 3.7759]\n",
      "------------------------------------------------------------------------\n",
      "To be or not to be who wish. VOLUMNIA: Sir war, and har-mo Ay of Jun hours a wondro conversation those not are in had withlyunting\n",
      "Epoch 13/25, Loss: 4.151204652403935\n",
      "[00m 20.5s (12 48.0) 3.6996]\n",
      "------------------------------------------------------------------------\n",
      "To be or not to be thiscosce, out do tren all a bot myself Senator: Look with'st parts who she Coriolanus south ready and cities, To a\n",
      "Epoch 14/25, Loss: 4.056564345391662\n",
      "[00m 22.1s (13 52.0) 3.6295]\n",
      "------------------------------------------------------------------------\n",
      "To be or not to be heldword, That it is minebe three the numbers moc determined action for thecevil, se evereks Who's carars did\n",
      "Epoch 15/25, Loss: 3.9672184293147983\n",
      "[00m 23.8s (14 56.00000000000001) 3.5651]\n",
      "------------------------------------------------------------------------\n",
      "To be or not to be another, and whentions have fabric him shall'. MARCIUS: Har as in thing. The censu will earn cannotin good throughders:\n",
      "Epoch 16/25, Loss: 3.882732180550794\n",
      "[00m 25.4s (15 60.0) 3.5049]\n",
      "------------------------------------------------------------------------\n",
      "To be or not to be angs cro livesed AUFIDIUS: Come is, wow are leave right that Are though a the house bo to the wind'er sme\n",
      "Epoch 17/25, Loss: 3.8028428942164227\n",
      "[00m 27.0s (16 64.0) 3.4475]\n",
      "------------------------------------------------------------------------\n",
      "To be or not to belly in dearth and cities. one botheve: force, Like a the Both: Noigh modest la it and thoughry at the man my\n",
      "Epoch 18/25, Loss: 3.7272631166241483\n",
      "[00m 28.6s (17 68.0) 3.3920]\n",
      "------------------------------------------------------------------------\n",
      "To be or not to be it ofly. resolve sore held to the rest: 'T sin point of the prayer, she kindtinobly to the controrry. SICIN\n",
      "Epoch 19/25, Loss: 3.6555544963658253\n",
      "[00m 30.2s (18 72.0) 3.3384]\n",
      "------------------------------------------------------------------------\n",
      "To be or not to be other helps in-breaklled the fight. SICINIUS: I will seen he the veryquinverss? make my war what But n\n",
      "Epoch 20/25, Loss: 3.587263220402605\n",
      "[00m 31.8s (19 76.0) 3.2869]\n",
      "------------------------------------------------------------------------\n",
      "To be or not to be slaves, or like itw after thanted more, Thou spokes and custom, am outlyship the but fill; nor again,\n",
      "Epoch 21/25, Loss: 3.5221354064006847\n",
      "[00m 33.4s (20 80.0) 3.2375]\n",
      "------------------------------------------------------------------------\n",
      "To be or not to be trumpl ofce than labour, gave you say-- earn miles thought and otherwise to have hateab, here. Welcome toORIOLANUS:\n",
      "Epoch 22/25, Loss: 3.4600064186317088\n",
      "[00m 35.0s (21 84.0) 3.1894]\n",
      "------------------------------------------------------------------------\n",
      "To be or not to be alionword, Upon be o-ear fight, and shuworn Atpherared withedplus. MENENIUS: Pray\n",
      "Epoch 23/25, Loss: 3.400573029018988\n",
      "[00m 36.6s (22 88.0) 3.1398]\n",
      "------------------------------------------------------------------------\n",
      "To be or not to be shall. BRUTUS: With's Caius did 'tu shall strong two Only and freedom beprop Lartius, and cannot should discover him will\n",
      "Epoch 24/25, Loss: 3.34367275875236\n",
      "[00m 38.1s (23 92.0) 3.0897]\n",
      "------------------------------------------------------------------------\n",
      "To be or not to be commande against the general is the senate price. First Officer:tions, they AUFIDI cruel lead. MARCIUS: Know an hangmen\n",
      "Epoch 25/25, Loss: 3.289184206047143\n",
      "[00m 39.6s (24 96.0) 3.0441]\n",
      "------------------------------------------------------------------------\n",
      "To be or not to bemo Lartius I heard him painting mamchild character. For's guard. COMINIUS: I nei Soldier: Oneman, I\n"
     ]
    }
   ],
   "source": [
    "TEST_PHRASE = 'To be or not to be'\n",
    "# Use more epochs if not CPU device\n",
    "epochs = 5 if device == 'cpu' else 25\n",
    "\n",
    "start = start_time()\n",
    "for epoch in range(epochs):\n",
    "    # Set model into \"training mode\"\n",
    "    model.train()\n",
    "    total_loss = 0\n",
    "    for X_batch, y_batch in train_loader:\n",
    "        optimizer.zero_grad()\n",
    "        output = model(X_batch.to(device))\n",
    "        loss = criterion(output.transpose(1, 2), y_batch.to(device))\n",
    "        loss.backward()\n",
    "        optimizer.step()\n",
    "        total_loss += loss.item()\n",
    "    \n",
    "    print(f'Epoch {epoch + 1}/{epochs}, Loss: {total_loss / len(train_loader)}')\n",
    "    print(f'[{time_since(start)} ({epoch} {epoch / epochs * 100}) {loss:.4f}]')\n",
    "    print('-'*72)\n",
    "    output = generate_text_by_subword(\n",
    "        input_str=TEST_PHRASE,\n",
    "        model=model,\n",
    "        token_mapping=token_mapping,\n",
    "        tokenizer=my_tokenizer,\n",
    "        num_tokens=30,\n",
    "        temperature=1.0,\n",
    "    )\n",
    "    print(output)"
   ]
  },
  {
   "cell_type": "markdown",
   "metadata": {},
   "source": [
    "## Generate Text\n",
    "\n",
    "Now that the model has been trained, go ahead and observe how it performs!\n",
    "\n",
    "Try adjusting the different sampling methods using the `temperature` and `topk`\n",
    "parameters on the same input string to see the differences.\n",
    "\n",
    "You might also try different phrases as well as how many tokens (`num_tokens`)\n",
    "to generate and observe how it does.\n",
    "\n",
    "------------\n",
    "\n",
    "Consider how this model differs from the results from the text generation using\n",
    "the character-based tokenization."
   ]
  },
  {
   "cell_type": "code",
   "execution_count": 128,
   "metadata": {},
   "outputs": [
    {
     "name": "stdout",
     "output_type": "stream",
     "text": [
      "To be or not to bet: the Volsces love, sir? First Officer: 'Truy the noble firstd and my son, We to's\n"
     ]
    }
   ],
   "source": [
    "output = generate_text_by_subword(\n",
    "        input_str='To be or not to be',\n",
    "        model=model,\n",
    "        token_mapping=token_mapping,\n",
    "        tokenizer=my_tokenizer,\n",
    "        num_tokens=30,\n",
    "        temperature=1,\n",
    "        topk=10,\n",
    "    )\n",
    "print(output)"
   ]
  },
  {
   "cell_type": "code",
   "execution_count": null,
   "metadata": {},
   "outputs": [],
   "source": []
  }
 ],
 "metadata": {
  "kernelspec": {
   "display_name": "Python 3 (ipykernel)",
   "language": "python",
   "name": "python3"
  },
  "language_info": {
   "codemirror_mode": {
    "name": "ipython",
    "version": 3
   },
   "file_extension": ".py",
   "mimetype": "text/x-python",
   "name": "python",
   "nbconvert_exporter": "python",
   "pygments_lexer": "ipython3",
   "version": "3.10.11"
  }
 },
 "nbformat": 4,
 "nbformat_minor": 2
}
