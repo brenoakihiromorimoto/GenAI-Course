{
 "cells": [
  {
   "cell_type": "markdown",
   "id": "53327472",
   "metadata": {},
   "source": [
    "# Using a Vector Database to Recommend Movies\n",
    "\n",
    "Vector search is certainly critical for generative AI, but also has lots of other interesting applications as well. One very common one is building personalized recommendations. In this exercise, we'll take a small diversion and build a quick movie recommender using a vector database."
   ]
  },
  {
   "cell_type": "markdown",
   "id": "05dc688e",
   "metadata": {},
   "source": [
    "For this exercise we'll use the [MovieLens Latest Small Dataset](https://grouplens.org/datasets/movielens/latest/), which contains 100,000 ratings and 3,600 tags applied to 9,000 movies by 600 users. The strategy we'll use is to create embeddings for the movies based on the user ratings. Then if a user rated a particular movie highly, we'll recommend \"similar\" movies, as determined by the embeddings"
   ]
  },
  {
   "cell_type": "code",
   "execution_count": 79,
   "id": "70a36165",
   "metadata": {},
   "outputs": [],
   "source": [
    "import lancedb\n",
    "\n",
    "import numpy as np\n",
    "import pandas as pd"
   ]
  },
  {
   "cell_type": "markdown",
   "id": "3b0fd54d",
   "metadata": {},
   "source": [
    "The dataset is included along with this exercise:"
   ]
  },
  {
   "cell_type": "code",
   "execution_count": 80,
   "id": "9546d217",
   "metadata": {},
   "outputs": [
    {
     "name": "stdout",
     "output_type": "stream",
     "text": [
      "README.txt  links.csv  movies.csv  ratings.csv\ttags.csv\r\n"
     ]
    }
   ],
   "source": [
    "!ls ml-latest-small"
   ]
  },
  {
   "cell_type": "markdown",
   "id": "d9db1d9b",
   "metadata": {},
   "source": [
    "## Loading data\n",
    "\n",
    "Let's start by reading in the `ratings.csv` file. We'll use this to compute the content embeddings"
   ]
  },
  {
   "cell_type": "code",
   "execution_count": 81,
   "id": "3b18fdb6",
   "metadata": {},
   "outputs": [
    {
     "data": {
      "text/html": [
       "<div>\n",
       "<style scoped>\n",
       "    .dataframe tbody tr th:only-of-type {\n",
       "        vertical-align: middle;\n",
       "    }\n",
       "\n",
       "    .dataframe tbody tr th {\n",
       "        vertical-align: top;\n",
       "    }\n",
       "\n",
       "    .dataframe thead th {\n",
       "        text-align: right;\n",
       "    }\n",
       "</style>\n",
       "<table border=\"1\" class=\"dataframe\">\n",
       "  <thead>\n",
       "    <tr style=\"text-align: right;\">\n",
       "      <th></th>\n",
       "      <th>userId</th>\n",
       "      <th>movieId</th>\n",
       "      <th>rating</th>\n",
       "      <th>timestamp</th>\n",
       "    </tr>\n",
       "  </thead>\n",
       "  <tbody>\n",
       "    <tr>\n",
       "      <th>0</th>\n",
       "      <td>1</td>\n",
       "      <td>1</td>\n",
       "      <td>4.0</td>\n",
       "      <td>964982703</td>\n",
       "    </tr>\n",
       "    <tr>\n",
       "      <th>1</th>\n",
       "      <td>1</td>\n",
       "      <td>3</td>\n",
       "      <td>4.0</td>\n",
       "      <td>964981247</td>\n",
       "    </tr>\n",
       "    <tr>\n",
       "      <th>2</th>\n",
       "      <td>1</td>\n",
       "      <td>6</td>\n",
       "      <td>4.0</td>\n",
       "      <td>964982224</td>\n",
       "    </tr>\n",
       "    <tr>\n",
       "      <th>3</th>\n",
       "      <td>1</td>\n",
       "      <td>47</td>\n",
       "      <td>5.0</td>\n",
       "      <td>964983815</td>\n",
       "    </tr>\n",
       "    <tr>\n",
       "      <th>4</th>\n",
       "      <td>1</td>\n",
       "      <td>50</td>\n",
       "      <td>5.0</td>\n",
       "      <td>964982931</td>\n",
       "    </tr>\n",
       "    <tr>\n",
       "      <th>...</th>\n",
       "      <td>...</td>\n",
       "      <td>...</td>\n",
       "      <td>...</td>\n",
       "      <td>...</td>\n",
       "    </tr>\n",
       "    <tr>\n",
       "      <th>100831</th>\n",
       "      <td>610</td>\n",
       "      <td>166534</td>\n",
       "      <td>4.0</td>\n",
       "      <td>1493848402</td>\n",
       "    </tr>\n",
       "    <tr>\n",
       "      <th>100832</th>\n",
       "      <td>610</td>\n",
       "      <td>168248</td>\n",
       "      <td>5.0</td>\n",
       "      <td>1493850091</td>\n",
       "    </tr>\n",
       "    <tr>\n",
       "      <th>100833</th>\n",
       "      <td>610</td>\n",
       "      <td>168250</td>\n",
       "      <td>5.0</td>\n",
       "      <td>1494273047</td>\n",
       "    </tr>\n",
       "    <tr>\n",
       "      <th>100834</th>\n",
       "      <td>610</td>\n",
       "      <td>168252</td>\n",
       "      <td>5.0</td>\n",
       "      <td>1493846352</td>\n",
       "    </tr>\n",
       "    <tr>\n",
       "      <th>100835</th>\n",
       "      <td>610</td>\n",
       "      <td>170875</td>\n",
       "      <td>3.0</td>\n",
       "      <td>1493846415</td>\n",
       "    </tr>\n",
       "  </tbody>\n",
       "</table>\n",
       "<p>100836 rows × 4 columns</p>\n",
       "</div>"
      ],
      "text/plain": [
       "        userId  movieId  rating   timestamp\n",
       "0            1        1     4.0   964982703\n",
       "1            1        3     4.0   964981247\n",
       "2            1        6     4.0   964982224\n",
       "3            1       47     5.0   964983815\n",
       "4            1       50     5.0   964982931\n",
       "...        ...      ...     ...         ...\n",
       "100831     610   166534     4.0  1493848402\n",
       "100832     610   168248     5.0  1493850091\n",
       "100833     610   168250     5.0  1494273047\n",
       "100834     610   168252     5.0  1493846352\n",
       "100835     610   170875     3.0  1493846415\n",
       "\n",
       "[100836 rows x 4 columns]"
      ]
     },
     "execution_count": 81,
     "metadata": {},
     "output_type": "execute_result"
    }
   ],
   "source": [
    "ratings = pd.read_csv('./ml-latest-small/ratings.csv', header=0)\n",
    "ratings"
   ]
  },
  {
   "cell_type": "markdown",
   "id": "9545e764",
   "metadata": {},
   "source": [
    "## Computing ratings\n",
    "\n",
    "Use the ratings dataframe from above and create a new reviews dataframe of users (index) and movies (columns). Each entry (i, j) in the dataframe will be the rating that user_i gave to movie_j. If no such pair exists, then fill in the value 0.\n",
    "\n",
    "**HINT** In Excel this would be called a **pivot** table"
   ]
  },
  {
   "cell_type": "code",
   "execution_count": 82,
   "id": "419a60f0",
   "metadata": {},
   "outputs": [],
   "source": [
    "reviewmatrix = pd.pivot_table(data=ratings, values='rating', index='userId', columns='movieId').fillna(0)"
   ]
  },
  {
   "cell_type": "markdown",
   "id": "58647590",
   "metadata": {},
   "source": [
    "## Computing embeddings\n",
    "\n",
    "Now let's use [matrix factorization](https://www.cs.cmu.edu/~mgormley/courses/10601-s17/slides/lecture25-mf.pdf) to extract content embeddings.\n",
    "\n",
    "Please compute the content embeddings from the reviewmatrix dataframe and name the result `embeddings`.\n",
    "\n",
    "**HINT**\n",
    "1. SVD is a popular matrix factorization technique\n",
    "2. If you're not sure which of the SVD results to use as the content embeddings, look at the shape of the results"
   ]
  },
  {
   "cell_type": "code",
   "execution_count": 83,
   "id": "a408c594",
   "metadata": {},
   "outputs": [],
   "source": [
    "matrix = reviewmatrix.values\n",
    "_, _, vh = np.linalg.svd(matrix, full_matrices=False)\n",
    "embeddings = vh.T"
   ]
  },
  {
   "cell_type": "code",
   "execution_count": 84,
   "id": "a2b3c904",
   "metadata": {},
   "outputs": [
    {
     "name": "stdout",
     "output_type": "stream",
     "text": [
      "(9724, 610)\n",
      "[[-7.04498985e-02  2.75911949e-02 -7.84438842e-02 ...  2.01689548e-02\n",
      "   3.54618933e-02  6.79390545e-02]\n",
      " [-3.85393459e-02  2.06662722e-03 -5.68447103e-02 ...  1.33779984e-02\n",
      "  -1.02325253e-01  1.27400488e-02]\n",
      " [-1.59129220e-02  2.47146155e-02 -1.80051145e-02 ... -1.90835186e-02\n",
      "  -1.19562842e-02 -2.30020847e-02]\n",
      " ...\n",
      " [-6.46836073e-05 -5.97586244e-04  8.71093879e-05 ... -1.91212330e-03\n",
      "   9.45491087e-04 -9.37898340e-05]\n",
      " [-6.46836073e-05 -5.97586244e-04  8.71093879e-05 ... -1.91212330e-03\n",
      "   9.45491087e-04 -9.37898340e-05]\n",
      " [-2.71729303e-04 -1.27236200e-03 -1.22833344e-04 ... -2.10896719e-03\n",
      "   2.57733571e-03 -1.97184627e-03]]\n"
     ]
    }
   ],
   "source": [
    "print(embeddings.shape)\n",
    "print(embeddings)"
   ]
  },
  {
   "cell_type": "code",
   "execution_count": 85,
   "id": "d9f8d4a9",
   "metadata": {},
   "outputs": [
    {
     "data": {
      "text/plain": [
       "(610, 9724)"
      ]
     },
     "execution_count": 85,
     "metadata": {},
     "output_type": "execute_result"
    }
   ],
   "source": [
    "reviewmatrix.shape"
   ]
  },
  {
   "cell_type": "markdown",
   "id": "00d69259",
   "metadata": {},
   "source": [
    "## Metadata\n",
    "\n",
    "Read in the `movies.csv` and `links.csv` files and make sure it is aligned with the embeddings dataframe.\n",
    "\n",
    "**HINT** pandas provides `reindex` functionality to help with data alignment"
   ]
  },
  {
   "cell_type": "code",
   "execution_count": 86,
   "id": "9d499a64",
   "metadata": {},
   "outputs": [
    {
     "data": {
      "text/html": [
       "<div>\n",
       "<style scoped>\n",
       "    .dataframe tbody tr th:only-of-type {\n",
       "        vertical-align: middle;\n",
       "    }\n",
       "\n",
       "    .dataframe tbody tr th {\n",
       "        vertical-align: top;\n",
       "    }\n",
       "\n",
       "    .dataframe thead th {\n",
       "        text-align: right;\n",
       "    }\n",
       "</style>\n",
       "<table border=\"1\" class=\"dataframe\">\n",
       "  <thead>\n",
       "    <tr style=\"text-align: right;\">\n",
       "      <th></th>\n",
       "      <th>title</th>\n",
       "      <th>genres</th>\n",
       "    </tr>\n",
       "    <tr>\n",
       "      <th>movieId</th>\n",
       "      <th></th>\n",
       "      <th></th>\n",
       "    </tr>\n",
       "  </thead>\n",
       "  <tbody>\n",
       "    <tr>\n",
       "      <th>1</th>\n",
       "      <td>Toy Story (1995)</td>\n",
       "      <td>Adventure|Animation|Children|Comedy|Fantasy</td>\n",
       "    </tr>\n",
       "    <tr>\n",
       "      <th>2</th>\n",
       "      <td>Jumanji (1995)</td>\n",
       "      <td>Adventure|Children|Fantasy</td>\n",
       "    </tr>\n",
       "    <tr>\n",
       "      <th>3</th>\n",
       "      <td>Grumpier Old Men (1995)</td>\n",
       "      <td>Comedy|Romance</td>\n",
       "    </tr>\n",
       "    <tr>\n",
       "      <th>4</th>\n",
       "      <td>Waiting to Exhale (1995)</td>\n",
       "      <td>Comedy|Drama|Romance</td>\n",
       "    </tr>\n",
       "    <tr>\n",
       "      <th>5</th>\n",
       "      <td>Father of the Bride Part II (1995)</td>\n",
       "      <td>Comedy</td>\n",
       "    </tr>\n",
       "    <tr>\n",
       "      <th>...</th>\n",
       "      <td>...</td>\n",
       "      <td>...</td>\n",
       "    </tr>\n",
       "    <tr>\n",
       "      <th>193581</th>\n",
       "      <td>Black Butler: Book of the Atlantic (2017)</td>\n",
       "      <td>Action|Animation|Comedy|Fantasy</td>\n",
       "    </tr>\n",
       "    <tr>\n",
       "      <th>193583</th>\n",
       "      <td>No Game No Life: Zero (2017)</td>\n",
       "      <td>Animation|Comedy|Fantasy</td>\n",
       "    </tr>\n",
       "    <tr>\n",
       "      <th>193585</th>\n",
       "      <td>Flint (2017)</td>\n",
       "      <td>Drama</td>\n",
       "    </tr>\n",
       "    <tr>\n",
       "      <th>193587</th>\n",
       "      <td>Bungo Stray Dogs: Dead Apple (2018)</td>\n",
       "      <td>Action|Animation</td>\n",
       "    </tr>\n",
       "    <tr>\n",
       "      <th>193609</th>\n",
       "      <td>Andrew Dice Clay: Dice Rules (1991)</td>\n",
       "      <td>Comedy</td>\n",
       "    </tr>\n",
       "  </tbody>\n",
       "</table>\n",
       "<p>9724 rows × 2 columns</p>\n",
       "</div>"
      ],
      "text/plain": [
       "                                             title  \\\n",
       "movieId                                              \n",
       "1                                 Toy Story (1995)   \n",
       "2                                   Jumanji (1995)   \n",
       "3                          Grumpier Old Men (1995)   \n",
       "4                         Waiting to Exhale (1995)   \n",
       "5               Father of the Bride Part II (1995)   \n",
       "...                                            ...   \n",
       "193581   Black Butler: Book of the Atlantic (2017)   \n",
       "193583                No Game No Life: Zero (2017)   \n",
       "193585                                Flint (2017)   \n",
       "193587         Bungo Stray Dogs: Dead Apple (2018)   \n",
       "193609         Andrew Dice Clay: Dice Rules (1991)   \n",
       "\n",
       "                                              genres  \n",
       "movieId                                               \n",
       "1        Adventure|Animation|Children|Comedy|Fantasy  \n",
       "2                         Adventure|Children|Fantasy  \n",
       "3                                     Comedy|Romance  \n",
       "4                               Comedy|Drama|Romance  \n",
       "5                                             Comedy  \n",
       "...                                              ...  \n",
       "193581               Action|Animation|Comedy|Fantasy  \n",
       "193583                      Animation|Comedy|Fantasy  \n",
       "193585                                         Drama  \n",
       "193587                              Action|Animation  \n",
       "193609                                        Comedy  \n",
       "\n",
       "[9724 rows x 2 columns]"
      ]
     },
     "execution_count": 86,
     "metadata": {},
     "output_type": "execute_result"
    }
   ],
   "source": [
    "movies = pd.read_csv('./ml-latest-small/movies.csv', header=0)\n",
    "movies = movies.set_index(\"movieId\").reindex(reviewmatrix.columns)\n",
    "movies"
   ]
  },
  {
   "cell_type": "code",
   "execution_count": 87,
   "id": "aa34a3ee",
   "metadata": {},
   "outputs": [
    {
     "data": {
      "text/html": [
       "<div>\n",
       "<style scoped>\n",
       "    .dataframe tbody tr th:only-of-type {\n",
       "        vertical-align: middle;\n",
       "    }\n",
       "\n",
       "    .dataframe tbody tr th {\n",
       "        vertical-align: top;\n",
       "    }\n",
       "\n",
       "    .dataframe thead th {\n",
       "        text-align: right;\n",
       "    }\n",
       "</style>\n",
       "<table border=\"1\" class=\"dataframe\">\n",
       "  <thead>\n",
       "    <tr style=\"text-align: right;\">\n",
       "      <th></th>\n",
       "      <th>imdbId</th>\n",
       "      <th>tmdbId</th>\n",
       "    </tr>\n",
       "    <tr>\n",
       "      <th>movieId</th>\n",
       "      <th></th>\n",
       "      <th></th>\n",
       "    </tr>\n",
       "  </thead>\n",
       "  <tbody>\n",
       "    <tr>\n",
       "      <th>1</th>\n",
       "      <td>114709</td>\n",
       "      <td>862.0</td>\n",
       "    </tr>\n",
       "    <tr>\n",
       "      <th>2</th>\n",
       "      <td>113497</td>\n",
       "      <td>8844.0</td>\n",
       "    </tr>\n",
       "    <tr>\n",
       "      <th>3</th>\n",
       "      <td>113228</td>\n",
       "      <td>15602.0</td>\n",
       "    </tr>\n",
       "    <tr>\n",
       "      <th>4</th>\n",
       "      <td>114885</td>\n",
       "      <td>31357.0</td>\n",
       "    </tr>\n",
       "    <tr>\n",
       "      <th>5</th>\n",
       "      <td>113041</td>\n",
       "      <td>11862.0</td>\n",
       "    </tr>\n",
       "    <tr>\n",
       "      <th>...</th>\n",
       "      <td>...</td>\n",
       "      <td>...</td>\n",
       "    </tr>\n",
       "    <tr>\n",
       "      <th>193581</th>\n",
       "      <td>5476944</td>\n",
       "      <td>432131.0</td>\n",
       "    </tr>\n",
       "    <tr>\n",
       "      <th>193583</th>\n",
       "      <td>5914996</td>\n",
       "      <td>445030.0</td>\n",
       "    </tr>\n",
       "    <tr>\n",
       "      <th>193585</th>\n",
       "      <td>6397426</td>\n",
       "      <td>479308.0</td>\n",
       "    </tr>\n",
       "    <tr>\n",
       "      <th>193587</th>\n",
       "      <td>8391976</td>\n",
       "      <td>483455.0</td>\n",
       "    </tr>\n",
       "    <tr>\n",
       "      <th>193609</th>\n",
       "      <td>101726</td>\n",
       "      <td>37891.0</td>\n",
       "    </tr>\n",
       "  </tbody>\n",
       "</table>\n",
       "<p>9724 rows × 2 columns</p>\n",
       "</div>"
      ],
      "text/plain": [
       "          imdbId    tmdbId\n",
       "movieId                   \n",
       "1         114709     862.0\n",
       "2         113497    8844.0\n",
       "3         113228   15602.0\n",
       "4         114885   31357.0\n",
       "5         113041   11862.0\n",
       "...          ...       ...\n",
       "193581   5476944  432131.0\n",
       "193583   5914996  445030.0\n",
       "193585   6397426  479308.0\n",
       "193587   8391976  483455.0\n",
       "193609    101726   37891.0\n",
       "\n",
       "[9724 rows x 2 columns]"
      ]
     },
     "execution_count": 87,
     "metadata": {},
     "output_type": "execute_result"
    }
   ],
   "source": [
    "# now do this for links\n",
    "links = pd.read_csv('./ml-latest-small/links.csv', header=0)\n",
    "\n",
    "links = links.set_index(\"movieId\").reindex(reviewmatrix.columns)\n",
    "links"
   ]
  },
  {
   "cell_type": "markdown",
   "id": "2c7e6792",
   "metadata": {},
   "source": [
    "## Create vector database table\n",
    "\n",
    "Let's create a table with the following fields:\n",
    "\n",
    "1. an integer movie id field\n",
    "2. a vector field of embeddings\n",
    "3. a string field of genres\n",
    "4. a string field for the movie title\n",
    "5. an integer field for the imdb_id\n",
    "\n",
    "First, we'll create a pydantic model named `Content` for these fields. For the vector field, use the `lancedb.pydantic.vector` as a shorthand for the field type. Note that you'll need to pass in the number of dimensions."
   ]
  },
  {
   "cell_type": "code",
   "execution_count": 88,
   "id": "1ba2d709",
   "metadata": {},
   "outputs": [],
   "source": [
    "from lancedb.pydantic import vector, LanceModel\n",
    "\n",
    "class Content(LanceModel):\n",
    "    movie_id: int\n",
    "    vector: vector(embeddings.shape[1])\n",
    "    genres: str\n",
    "    title: str\n",
    "    imdb_id: int\n",
    "        \n",
    "    @property\n",
    "    def imdb_url(self) -> str:\n",
    "        return f\"https://www.imdb.com/title/tt{self.imdb_id}\"\n",
    "\n",
    "    "
   ]
  },
  {
   "cell_type": "markdown",
   "id": "77ba18e0",
   "metadata": {},
   "source": [
    "Let's prepare a list of python dicts with all of the data"
   ]
  },
  {
   "cell_type": "code",
   "execution_count": 89,
   "id": "f4880292",
   "metadata": {},
   "outputs": [
    {
     "data": {
      "text/plain": [
       "{'movie_id': 1,\n",
       " 'vector': array([-7.04498985e-02,  2.75911949e-02, -7.84438842e-02, -1.68374052e-03,\n",
       "         1.22103603e-02,  3.25111166e-02, -6.49264118e-02,  1.79241939e-02,\n",
       "        -9.49673821e-03,  1.22672082e-02, -2.77970032e-02, -2.22846741e-02,\n",
       "         6.56610131e-02,  1.33926507e-02,  4.27844671e-02, -2.79512114e-02,\n",
       "         3.08425977e-03,  1.28098266e-02,  2.14422730e-02, -6.53660473e-03,\n",
       "        -1.28156601e-01,  7.23890727e-02,  2.98655842e-02, -2.90362869e-02,\n",
       "        -2.37701963e-02,  9.51409610e-03, -1.16724237e-02, -3.70146982e-02,\n",
       "        -1.04740459e-02, -1.73656450e-03,  6.66475103e-02,  1.77578073e-02,\n",
       "         6.49802592e-02, -7.99802100e-03, -4.26860263e-03,  9.44001937e-02,\n",
       "        -5.32920164e-02,  8.31889082e-03,  2.90817215e-02, -1.82570434e-02,\n",
       "         3.95061843e-02, -2.45152809e-02, -4.15336354e-02, -2.73433142e-02,\n",
       "        -1.55777359e-02,  9.97940061e-02,  3.46859337e-02,  6.99543488e-02,\n",
       "         1.66110170e-02,  4.82157420e-02,  3.36001989e-03, -4.08615163e-02,\n",
       "        -6.26257088e-02,  1.14986940e-01,  2.53338476e-02,  7.95797524e-02,\n",
       "        -3.56000691e-03,  1.37566118e-02, -5.12522039e-02,  1.17325798e-02,\n",
       "        -1.78316720e-02, -8.73184285e-03, -1.92270506e-02, -3.63018439e-02,\n",
       "         9.82392811e-02, -2.50074683e-03, -7.06073399e-02,  3.67797819e-02,\n",
       "         8.99314565e-03, -2.06825819e-02, -1.21573496e-01,  6.30837488e-02,\n",
       "        -2.32764205e-02,  1.65802472e-02, -5.26900770e-02,  5.86119595e-02,\n",
       "         2.06642616e-02,  2.25480456e-02, -5.50248291e-02, -2.02882261e-03,\n",
       "         6.07436222e-02,  5.26049838e-02, -2.15514126e-03, -6.49616245e-02,\n",
       "         4.48218327e-02, -2.63376654e-02,  6.51166291e-02, -4.55701426e-02,\n",
       "        -4.25875059e-02, -1.48344632e-02, -1.15501910e-02, -1.05136665e-02,\n",
       "         3.42779803e-02,  5.26839583e-03, -3.22607512e-02, -6.50494373e-02,\n",
       "        -1.41560509e-02, -2.88898201e-02,  8.73076567e-02,  2.25859326e-02,\n",
       "        -8.23613636e-02,  4.84108848e-02,  2.04444058e-02, -1.39681465e-02,\n",
       "        -6.89953692e-02,  7.51906224e-02, -3.70073082e-02,  4.89525750e-02,\n",
       "        -1.03087224e-02, -3.64629258e-02,  4.53706078e-02, -7.37135226e-02,\n",
       "        -6.23471673e-02,  4.49838408e-02, -7.15699523e-03, -4.92092069e-03,\n",
       "        -2.86282719e-02,  9.19160487e-02, -2.32771341e-02,  1.43333791e-02,\n",
       "        -4.38749867e-03, -4.68866250e-02, -1.00602440e-01,  1.20306464e-01,\n",
       "        -2.93585254e-02,  4.35349770e-02,  3.60137732e-02,  8.30905877e-02,\n",
       "        -1.25969129e-02,  9.71331214e-03,  3.56054974e-02, -2.10528825e-02,\n",
       "        -5.97224992e-02, -4.17946902e-02,  6.48006167e-03,  4.96054919e-03,\n",
       "        -7.56885573e-02, -1.42024972e-02,  9.63919880e-03, -5.84604691e-02,\n",
       "         2.32006538e-02,  4.96806446e-03, -7.00956629e-02, -4.58145172e-03,\n",
       "        -7.54716886e-02,  6.01980645e-02,  6.09470138e-03, -6.83425331e-02,\n",
       "        -6.82986603e-02,  1.80086286e-02, -2.89263844e-02, -6.22315100e-03,\n",
       "        -4.65643832e-02, -2.50849195e-02,  1.23472415e-02,  3.00820255e-04,\n",
       "        -5.48277873e-02,  8.88128382e-02, -1.11862768e-02, -3.64058208e-02,\n",
       "         8.74707150e-03,  9.78183399e-03, -7.16192573e-02, -4.71899903e-02,\n",
       "        -3.36967849e-02,  2.37935155e-02, -2.78983854e-02,  3.14384458e-02,\n",
       "        -3.11535329e-02,  7.24038696e-02, -2.25816552e-02,  5.73653233e-02,\n",
       "        -2.56576998e-02,  4.16167988e-02, -6.91185431e-04, -1.17048972e-02,\n",
       "         4.74782189e-03, -3.88724133e-03,  6.91118172e-03,  5.13757998e-04,\n",
       "         5.48304975e-02, -1.42240561e-02, -1.50039698e-02,  1.15584072e-02,\n",
       "         1.04566251e-01,  7.30496573e-02,  6.13836389e-02, -1.19034633e-02,\n",
       "        -1.34447634e-01,  5.99899808e-02, -3.82191768e-02, -1.93666563e-02,\n",
       "         4.09558756e-02,  3.19511022e-02,  8.38288899e-03, -1.89859437e-02,\n",
       "        -6.62585300e-02,  1.39874859e-02, -5.09269378e-02,  1.40290365e-02,\n",
       "        -2.85072913e-03, -2.85914495e-02, -3.20262364e-02, -3.22041634e-02,\n",
       "        -2.87081631e-02, -4.06936541e-03, -6.10006635e-02,  1.12913008e-01,\n",
       "         2.98643054e-02, -6.08736772e-02,  2.15418987e-02, -2.54920144e-02,\n",
       "         4.63923691e-02, -1.82374136e-02, -1.28084602e-02,  4.43595430e-02,\n",
       "         2.03661030e-02, -8.26529219e-02,  2.16660298e-02,  2.43381810e-02,\n",
       "         3.13908743e-02,  8.45495759e-02,  2.57317407e-02, -3.90136271e-02,\n",
       "         3.29464155e-02,  3.53631388e-02,  1.55686898e-02,  4.25656024e-02,\n",
       "        -1.41211737e-01, -6.11088387e-02, -3.04784589e-02,  1.63451319e-02,\n",
       "        -9.87102202e-04, -2.97126383e-02,  3.02384751e-02, -2.88068674e-02,\n",
       "        -7.63490951e-02,  8.56578158e-02,  1.04780168e-02,  3.33767807e-02,\n",
       "         5.78115311e-04, -2.94612309e-02,  2.96303740e-04, -4.31518860e-02,\n",
       "         1.13225117e-02, -3.42884560e-02, -1.63614710e-02,  2.46059768e-02,\n",
       "        -1.67300514e-02,  1.05428655e-02, -4.50289384e-02,  3.19214630e-02,\n",
       "        -3.52131843e-02, -2.86739200e-02, -3.83881919e-02, -5.84352189e-02,\n",
       "        -3.42494602e-02, -1.20237072e-01,  1.43847226e-02,  8.47705990e-02,\n",
       "         2.37279329e-03,  7.47995818e-04,  8.94996919e-03,  2.94993812e-02,\n",
       "         4.79195009e-03,  6.56169396e-02, -3.79001416e-02,  1.88026409e-02,\n",
       "         2.79769897e-03,  5.10954922e-02, -1.63745210e-02, -3.75887667e-02,\n",
       "         3.27719793e-02,  6.43101305e-02,  2.15013781e-03,  1.77563885e-02,\n",
       "        -2.53679676e-02,  3.59639396e-03,  5.29872677e-02, -6.21706935e-02,\n",
       "        -1.64204962e-02, -3.42646831e-02, -1.22452934e-02,  6.23537085e-02,\n",
       "         2.66269083e-02, -5.48707674e-02,  1.97586911e-02, -1.25535620e-02,\n",
       "        -3.77159747e-02, -5.51994460e-02,  8.03910227e-03, -2.52879859e-02,\n",
       "         1.42201570e-02,  3.17207621e-02,  5.17190786e-02,  3.46011386e-02,\n",
       "        -1.41506212e-03,  5.24491058e-03,  8.58014886e-03,  4.50805193e-03,\n",
       "         1.57072440e-02,  3.23955602e-04, -2.15190685e-02,  2.99480537e-02,\n",
       "         1.27394665e-02,  2.39407262e-02,  6.28999760e-03,  7.53324283e-03,\n",
       "        -4.05652872e-03, -1.85180138e-02,  4.09388309e-02, -2.12672733e-02,\n",
       "         1.82588799e-03, -2.13524158e-02,  4.98876216e-02, -9.19738512e-03,\n",
       "        -3.69841720e-02,  1.06643533e-02, -2.24918421e-02, -3.17343412e-02,\n",
       "         3.81865856e-02, -3.32552472e-02, -9.12128827e-03,  2.75208356e-02,\n",
       "         3.62270786e-02,  2.21760050e-02,  1.09937015e-02, -6.00752266e-02,\n",
       "         5.90856274e-03, -6.44465046e-02,  1.19606119e-02, -4.85691926e-02,\n",
       "        -1.23398000e-02,  3.75922517e-02, -1.82274020e-02,  4.15386327e-03,\n",
       "         4.20750666e-02,  3.35462332e-03,  3.27159314e-02, -1.00408070e-02,\n",
       "         1.59002614e-02,  1.36939557e-03,  1.90576042e-02, -3.37291088e-03,\n",
       "        -3.03854044e-02,  2.40458501e-02,  1.87780114e-03,  7.43213152e-02,\n",
       "        -5.12227671e-03, -2.28833396e-02,  8.43988923e-03, -4.72114076e-04,\n",
       "        -8.68622998e-03,  8.32065062e-03, -4.17094602e-02, -2.20901825e-02,\n",
       "        -3.02945925e-02, -4.35542134e-02, -4.58906499e-02,  1.04289022e-03,\n",
       "         4.90056966e-03,  3.83499148e-02, -6.99758019e-03, -2.65149951e-02,\n",
       "         2.21970693e-02,  1.87722732e-02,  7.90381002e-05, -2.28550610e-02,\n",
       "         1.03018550e-03,  9.55886392e-03,  2.34677894e-02, -1.53506374e-02,\n",
       "        -1.70787808e-03, -5.33454029e-03, -4.96894975e-03,  9.62198950e-04,\n",
       "         4.63958179e-02,  3.20027216e-02,  7.48589768e-02, -4.63728866e-02,\n",
       "         6.07279696e-02,  2.16850109e-02, -3.60303882e-02,  8.37536901e-03,\n",
       "        -4.38583706e-04, -4.59924835e-02,  8.21170044e-03,  1.36320338e-02,\n",
       "         1.27228724e-02, -2.22548825e-02,  6.66728532e-03,  2.96985788e-02,\n",
       "        -8.00380659e-02,  1.09334981e-02, -1.25935665e-02, -4.59504487e-02,\n",
       "        -3.05503137e-02, -2.31233249e-02, -4.69881737e-02, -2.70272214e-02,\n",
       "        -2.87510312e-02,  2.12426656e-02,  3.66982073e-02, -1.74460667e-02,\n",
       "         1.30824909e-02,  3.64855547e-02, -4.25903577e-03,  3.84971667e-03,\n",
       "         1.84234925e-02, -1.22110651e-02, -1.68166535e-02,  4.12759974e-02,\n",
       "        -1.95292383e-03,  8.02473142e-03,  5.22987840e-03,  1.75846548e-03,\n",
       "        -3.15265528e-02, -3.26084389e-02, -4.63325833e-02, -2.66126338e-02,\n",
       "        -1.17239971e-02,  1.90463456e-02,  4.23036889e-02, -2.29855494e-02,\n",
       "         3.19981865e-03,  6.11069550e-02,  1.06771686e-02, -3.29494738e-02,\n",
       "         1.79699667e-02, -2.27892716e-02, -5.91034805e-03, -4.31364623e-02,\n",
       "        -8.74024834e-03, -3.66582519e-02,  7.51246616e-03,  1.87661907e-02,\n",
       "         4.28691460e-02, -8.86000146e-03, -2.01426087e-02, -4.32564620e-03,\n",
       "         5.20023619e-03, -1.42844265e-02,  1.40252211e-02,  4.82001195e-02,\n",
       "         1.01783902e-02,  5.25798291e-02, -8.03743937e-03,  4.30281097e-03,\n",
       "         1.69886699e-02, -2.60133594e-03, -3.47409760e-03,  5.53767199e-03,\n",
       "         1.82014603e-02,  1.95373804e-02, -1.04442772e-02, -1.63594894e-02,\n",
       "         2.06297242e-02,  3.79739938e-03, -7.44909019e-03, -7.16027361e-03,\n",
       "         4.04959292e-02,  3.88423551e-02, -4.91436701e-04, -9.05076974e-03,\n",
       "         1.03145256e-02, -3.72332195e-02,  1.77132795e-03,  1.59292958e-02,\n",
       "        -2.36306262e-02, -3.04079405e-02,  1.34119565e-02, -4.13985956e-02,\n",
       "        -2.36191899e-03, -3.21670940e-03,  2.48698634e-03, -2.73189262e-02,\n",
       "         4.46409184e-03,  1.22261387e-02, -1.72087521e-03,  1.56828117e-02,\n",
       "        -4.32712702e-02,  1.66205747e-02, -4.72344267e-03,  3.05543650e-03,\n",
       "         2.74341219e-02,  9.16324603e-04, -2.00554398e-02, -2.59095721e-03,\n",
       "         3.19318843e-02,  3.19036111e-02,  2.69405847e-02,  1.74731430e-02,\n",
       "        -1.45051491e-02,  2.90166532e-02, -2.88143121e-02,  4.99231671e-02,\n",
       "         1.84422029e-02, -6.35256876e-02,  8.36910609e-03,  2.84581303e-02,\n",
       "         2.17339522e-02, -5.45781849e-03,  3.45210024e-02, -3.42423106e-02,\n",
       "        -1.61863997e-02,  8.60079249e-03,  3.10572329e-03,  4.59397573e-03,\n",
       "         1.65930356e-02,  1.68147904e-03,  1.16072054e-02,  3.94789074e-02,\n",
       "         8.59731933e-03, -4.62963612e-03, -7.53117967e-03, -7.21702929e-03,\n",
       "        -3.39529284e-02, -2.95319888e-02, -2.01928686e-02, -2.73174045e-03,\n",
       "        -2.02110352e-02, -4.09801243e-03, -1.41570542e-02,  2.59229767e-02,\n",
       "         3.71919435e-02,  7.52254305e-03,  1.52242484e-02,  2.70566599e-06,\n",
       "         3.62455846e-02,  5.50137993e-02, -1.68561243e-02,  9.81677398e-05,\n",
       "         2.56752754e-02,  2.57128447e-02,  1.83165513e-02, -2.12113376e-02,\n",
       "         2.75215678e-03,  1.21678293e-02, -9.00506421e-03,  1.09252036e-02,\n",
       "         1.45733546e-03,  2.74604635e-02,  1.19851111e-02,  2.98057295e-02,\n",
       "        -5.14846197e-02, -5.41219781e-03,  1.51196053e-03,  5.68486597e-02,\n",
       "        -1.70484606e-02,  3.24527611e-03,  3.37608581e-02, -4.53161063e-02,\n",
       "        -9.31327393e-03,  3.47271184e-02, -1.57791580e-02,  4.65034535e-02,\n",
       "        -1.53991836e-03, -7.66347977e-04, -2.41256477e-02,  3.47858846e-04,\n",
       "         2.98210331e-03,  2.91716444e-04,  4.31720783e-02,  1.91210946e-02,\n",
       "        -7.52339034e-04, -1.61276875e-02, -4.06210331e-02,  2.08252158e-02,\n",
       "        -2.71869415e-02,  2.58227614e-03,  4.81781632e-03, -1.39893389e-02,\n",
       "        -1.97833126e-02,  3.44282786e-03,  3.67001900e-02,  6.11327260e-03,\n",
       "        -3.15517168e-02, -7.91273323e-03, -4.53382939e-02, -9.44610452e-03,\n",
       "         1.87580818e-02,  1.38942777e-02, -1.09484085e-02,  8.77436785e-03,\n",
       "        -4.03530407e-02, -3.02592070e-02, -6.06623886e-03,  2.63064594e-02,\n",
       "         7.12413696e-02,  2.11509235e-02, -2.28228621e-02, -7.68053292e-03,\n",
       "        -1.59573932e-03,  3.82968863e-02, -1.75875592e-02, -2.84437802e-03,\n",
       "         2.76358491e-02, -6.25385635e-02, -3.35930586e-03,  1.26042683e-02,\n",
       "         2.06123790e-02, -1.93807163e-02, -5.79979529e-02, -2.71709900e-02,\n",
       "        -6.92584520e-03,  5.92702668e-02,  1.10072359e-01,  2.01689548e-02,\n",
       "         3.54618933e-02,  6.79390545e-02]),\n",
       " 'genres': 'Adventure|Animation|Children|Comedy|Fantasy',\n",
       " 'title': 'Toy Story (1995)',\n",
       " 'imdb_id': 114709}"
      ]
     },
     "execution_count": 89,
     "metadata": {},
     "output_type": "execute_result"
    }
   ],
   "source": [
    "values = list(zip(*[reviewmatrix.columns,\n",
    "                    embeddings, \n",
    "                    movies[\"genres\"], \n",
    "                    movies[\"title\"], \n",
    "                    links[\"imdbId\"]]))\n",
    "keys = ['movie_id', 'vector', 'genres', 'title', 'imdb_id']\n",
    "data = [dict(zip(keys, v)) for v in values]\n",
    "\n",
    "data[0]"
   ]
  },
  {
   "cell_type": "markdown",
   "id": "7f9ce38d",
   "metadata": {},
   "source": [
    "Now please connect to the local database at ~/.lancedb\n",
    "and create the LanceDB table named \"movielens_small\".\n",
    "\n",
    "**HINT** you've seen this in a previous exercise"
   ]
  },
  {
   "cell_type": "markdown",
   "id": "2d87a3fe",
   "metadata": {},
   "source": [
    "## Generating recommendations\n",
    "\n",
    "Finally we're ready to generate recommendations based on content vector similarity.\n",
    "\n",
    "For this exercise please fill in the rest of the function to generate recommendations\n",
    "\n",
    "**HINT** It's easier if you use the pydantic integration to convert results"
   ]
  },
  {
   "cell_type": "code",
   "execution_count": 99,
   "id": "117e7b5e",
   "metadata": {},
   "outputs": [],
   "source": [
    "def get_recommendations(title: str) -> list[(int, str, str)]:\n",
    "    # First we retrieve the vector for the input title\n",
    "    query_result = (table.to_lance()\n",
    "                    .to_table(filter=f\"title='{title}'\"))\n",
    "    if len(query_result)==0:\n",
    "        return []\n",
    "    query_vector = query_result['vector'].to_numpy()[0]\n",
    "    print(len(query_vector))\n",
    "    # Please write the code to search for the 5 most similar titles\n",
    "    results = table.search(query_vector).select(\"title\").limit(5).to_df()\n",
    "    print(results)\n",
    "    # For each result, return the movie_id, title, and imdb_url\n",
    "    return results, movie_id, title, imdb_url"
   ]
  },
  {
   "cell_type": "markdown",
   "id": "01411b02",
   "metadata": {},
   "source": [
    "If a user watched the movie titled \"Moana (2016)\", what should we recommend to the user?"
   ]
  },
  {
   "cell_type": "code",
   "execution_count": 100,
   "id": "ae52400e",
   "metadata": {},
   "outputs": [
    {
     "name": "stdout",
     "output_type": "stream",
     "text": [
      "610\n"
     ]
    },
    {
     "ename": "ValidationError",
     "evalue": "1 validation error for Query\ncolumns\n  value is not a valid list (type=type_error.list)",
     "output_type": "error",
     "traceback": [
      "\u001b[0;31m---------------------------------------------------------------------------\u001b[0m",
      "\u001b[0;31mValidationError\u001b[0m                           Traceback (most recent call last)",
      "Cell \u001b[0;32mIn[100], line 1\u001b[0m\n\u001b[0;32m----> 1\u001b[0m \u001b[43mget_recommendations\u001b[49m\u001b[43m(\u001b[49m\u001b[38;5;124;43m\"\u001b[39;49m\u001b[38;5;124;43mMoana (2016)\u001b[39;49m\u001b[38;5;124;43m\"\u001b[39;49m\u001b[43m)\u001b[49m\n",
      "Cell \u001b[0;32mIn[99], line 10\u001b[0m, in \u001b[0;36mget_recommendations\u001b[0;34m(title)\u001b[0m\n\u001b[1;32m      8\u001b[0m \u001b[38;5;28mprint\u001b[39m(\u001b[38;5;28mlen\u001b[39m(query_vector))\n\u001b[1;32m      9\u001b[0m \u001b[38;5;66;03m# Please write the code to search for the 5 most similar titles\u001b[39;00m\n\u001b[0;32m---> 10\u001b[0m results \u001b[38;5;241m=\u001b[39m \u001b[43mtable\u001b[49m\u001b[38;5;241;43m.\u001b[39;49m\u001b[43msearch\u001b[49m\u001b[43m(\u001b[49m\u001b[43mquery_vector\u001b[49m\u001b[43m)\u001b[49m\u001b[38;5;241;43m.\u001b[39;49m\u001b[43mselect\u001b[49m\u001b[43m(\u001b[49m\u001b[38;5;124;43m\"\u001b[39;49m\u001b[38;5;124;43mtitle\u001b[39;49m\u001b[38;5;124;43m\"\u001b[39;49m\u001b[43m)\u001b[49m\u001b[38;5;241;43m.\u001b[39;49m\u001b[43mlimit\u001b[49m\u001b[43m(\u001b[49m\u001b[38;5;241;43m5\u001b[39;49m\u001b[43m)\u001b[49m\u001b[38;5;241;43m.\u001b[39;49m\u001b[43mto_df\u001b[49m\u001b[43m(\u001b[49m\u001b[43m)\u001b[49m\n\u001b[1;32m     11\u001b[0m \u001b[38;5;28mprint\u001b[39m(results)\n\u001b[1;32m     12\u001b[0m \u001b[38;5;66;03m# For each result, return the movie_id, title, and imdb_url\u001b[39;00m\n",
      "File \u001b[0;32m/opt/venv/lib/python3.10/site-packages/lancedb/query.py:212\u001b[0m, in \u001b[0;36mLanceQueryBuilder.to_df\u001b[0;34m(self)\u001b[0m\n\u001b[1;32m    204\u001b[0m \u001b[38;5;28;01mdef\u001b[39;00m \u001b[38;5;21mto_df\u001b[39m(\u001b[38;5;28mself\u001b[39m) \u001b[38;5;241m-\u001b[39m\u001b[38;5;241m>\u001b[39m \u001b[38;5;124m\"\u001b[39m\u001b[38;5;124mpd.DataFrame\u001b[39m\u001b[38;5;124m\"\u001b[39m:\n\u001b[1;32m    205\u001b[0m \u001b[38;5;250m    \u001b[39m\u001b[38;5;124;03m\"\"\"\u001b[39;00m\n\u001b[1;32m    206\u001b[0m \u001b[38;5;124;03m    Execute the query and return the results as a pandas DataFrame.\u001b[39;00m\n\u001b[1;32m    207\u001b[0m \u001b[38;5;124;03m    In addition to the selected columns, LanceDB also returns a vector\u001b[39;00m\n\u001b[1;32m    208\u001b[0m \u001b[38;5;124;03m    and also the \"_distance\" column which is the distance between the query\u001b[39;00m\n\u001b[1;32m    209\u001b[0m \u001b[38;5;124;03m    vector and the returned vector.\u001b[39;00m\n\u001b[1;32m    210\u001b[0m \u001b[38;5;124;03m    \"\"\"\u001b[39;00m\n\u001b[0;32m--> 212\u001b[0m     \u001b[38;5;28;01mreturn\u001b[39;00m \u001b[38;5;28;43mself\u001b[39;49m\u001b[38;5;241;43m.\u001b[39;49m\u001b[43mto_arrow\u001b[49m\u001b[43m(\u001b[49m\u001b[43m)\u001b[49m\u001b[38;5;241m.\u001b[39mto_pandas()\n",
      "File \u001b[0;32m/opt/venv/lib/python3.10/site-packages/lancedb/query.py:224\u001b[0m, in \u001b[0;36mLanceQueryBuilder.to_arrow\u001b[0;34m(self)\u001b[0m\n\u001b[1;32m    215\u001b[0m \u001b[38;5;250m\u001b[39m\u001b[38;5;124;03m\"\"\"\u001b[39;00m\n\u001b[1;32m    216\u001b[0m \u001b[38;5;124;03mExecute the query and return the results as an\u001b[39;00m\n\u001b[1;32m    217\u001b[0m \u001b[38;5;124;03m[Apache Arrow Table](https://arrow.apache.org/docs/python/generated/pyarrow.Table.html#pyarrow.Table).\u001b[39;00m\n\u001b[0;32m   (...)\u001b[0m\n\u001b[1;32m    221\u001b[0m \u001b[38;5;124;03mvector and the returned vectors.\u001b[39;00m\n\u001b[1;32m    222\u001b[0m \u001b[38;5;124;03m\"\"\"\u001b[39;00m\n\u001b[1;32m    223\u001b[0m vector \u001b[38;5;241m=\u001b[39m \u001b[38;5;28mself\u001b[39m\u001b[38;5;241m.\u001b[39m_query \u001b[38;5;28;01mif\u001b[39;00m \u001b[38;5;28misinstance\u001b[39m(\u001b[38;5;28mself\u001b[39m\u001b[38;5;241m.\u001b[39m_query, \u001b[38;5;28mlist\u001b[39m) \u001b[38;5;28;01melse\u001b[39;00m \u001b[38;5;28mself\u001b[39m\u001b[38;5;241m.\u001b[39m_query\u001b[38;5;241m.\u001b[39mtolist()\n\u001b[0;32m--> 224\u001b[0m query \u001b[38;5;241m=\u001b[39m \u001b[43mQuery\u001b[49m\u001b[43m(\u001b[49m\n\u001b[1;32m    225\u001b[0m \u001b[43m    \u001b[49m\u001b[43mvector\u001b[49m\u001b[38;5;241;43m=\u001b[39;49m\u001b[43mvector\u001b[49m\u001b[43m,\u001b[49m\n\u001b[1;32m    226\u001b[0m \u001b[43m    \u001b[49m\u001b[38;5;28;43mfilter\u001b[39;49m\u001b[38;5;241;43m=\u001b[39;49m\u001b[38;5;28;43mself\u001b[39;49m\u001b[38;5;241;43m.\u001b[39;49m\u001b[43m_where\u001b[49m\u001b[43m,\u001b[49m\n\u001b[1;32m    227\u001b[0m \u001b[43m    \u001b[49m\u001b[43mk\u001b[49m\u001b[38;5;241;43m=\u001b[39;49m\u001b[38;5;28;43mself\u001b[39;49m\u001b[38;5;241;43m.\u001b[39;49m\u001b[43m_limit\u001b[49m\u001b[43m,\u001b[49m\n\u001b[1;32m    228\u001b[0m \u001b[43m    \u001b[49m\u001b[43mmetric\u001b[49m\u001b[38;5;241;43m=\u001b[39;49m\u001b[38;5;28;43mself\u001b[39;49m\u001b[38;5;241;43m.\u001b[39;49m\u001b[43m_metric\u001b[49m\u001b[43m,\u001b[49m\n\u001b[1;32m    229\u001b[0m \u001b[43m    \u001b[49m\u001b[43mcolumns\u001b[49m\u001b[38;5;241;43m=\u001b[39;49m\u001b[38;5;28;43mself\u001b[39;49m\u001b[38;5;241;43m.\u001b[39;49m\u001b[43m_columns\u001b[49m\u001b[43m,\u001b[49m\n\u001b[1;32m    230\u001b[0m \u001b[43m    \u001b[49m\u001b[43mnprobes\u001b[49m\u001b[38;5;241;43m=\u001b[39;49m\u001b[38;5;28;43mself\u001b[39;49m\u001b[38;5;241;43m.\u001b[39;49m\u001b[43m_nprobes\u001b[49m\u001b[43m,\u001b[49m\n\u001b[1;32m    231\u001b[0m \u001b[43m    \u001b[49m\u001b[43mrefine_factor\u001b[49m\u001b[38;5;241;43m=\u001b[39;49m\u001b[38;5;28;43mself\u001b[39;49m\u001b[38;5;241;43m.\u001b[39;49m\u001b[43m_refine_factor\u001b[49m\u001b[43m,\u001b[49m\n\u001b[1;32m    232\u001b[0m \u001b[43m    \u001b[49m\u001b[43mvector_column\u001b[49m\u001b[38;5;241;43m=\u001b[39;49m\u001b[38;5;28;43mself\u001b[39;49m\u001b[38;5;241;43m.\u001b[39;49m\u001b[43m_vector_column\u001b[49m\u001b[43m,\u001b[49m\n\u001b[1;32m    233\u001b[0m \u001b[43m\u001b[49m\u001b[43m)\u001b[49m\n\u001b[1;32m    234\u001b[0m \u001b[38;5;28;01mreturn\u001b[39;00m \u001b[38;5;28mself\u001b[39m\u001b[38;5;241m.\u001b[39m_table\u001b[38;5;241m.\u001b[39m_execute_query(query)\n",
      "File \u001b[0;32m/opt/venv/lib/python3.10/site-packages/pydantic/main.py:341\u001b[0m, in \u001b[0;36mpydantic.main.BaseModel.__init__\u001b[0;34m()\u001b[0m\n",
      "\u001b[0;31mValidationError\u001b[0m: 1 validation error for Query\ncolumns\n  value is not a valid list (type=type_error.list)"
     ]
    }
   ],
   "source": [
    "get_recommendations(\"Moana (2016)\")"
   ]
  },
  {
   "cell_type": "markdown",
   "id": "74bd1170",
   "metadata": {},
   "source": [
    "What about \"Rogue One: A Star Wars Story (2016)\"?"
   ]
  },
  {
   "cell_type": "code",
   "execution_count": null,
   "id": "f0a31dde",
   "metadata": {},
   "outputs": [],
   "source": [
    "get_recommendations(\"Rogue One: A Star Wars Story (2016)\")"
   ]
  },
  {
   "cell_type": "markdown",
   "id": "c3288665",
   "metadata": {},
   "source": [
    "Do these look reasonable? How would you improve this recommender system?"
   ]
  },
  {
   "cell_type": "code",
   "execution_count": null,
   "id": "6ce01894",
   "metadata": {},
   "outputs": [],
   "source": []
  }
 ],
 "metadata": {
  "kernelspec": {
   "display_name": "Python 3 (ipykernel)",
   "language": "python",
   "name": "python3"
  },
  "language_info": {
   "codemirror_mode": {
    "name": "ipython",
    "version": 3
   },
   "file_extension": ".py",
   "mimetype": "text/x-python",
   "name": "python",
   "nbconvert_exporter": "python",
   "pygments_lexer": "ipython3",
   "version": "3.10.13"
  }
 },
 "nbformat": 4,
 "nbformat_minor": 5
}
