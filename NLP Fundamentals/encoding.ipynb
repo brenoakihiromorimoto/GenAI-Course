{
 "cells": [
  {
   "cell_type": "code",
   "execution_count": 116,
   "metadata": {
    "slideshow": {
     "slide_type": ""
    },
    "tags": []
   },
   "outputs": [],
   "source": [
    "from __future__ import annotations\n",
    "\n",
    "# TODO: Feel free to add other imports as needed\n",
    "import re"
   ]
  },
  {
   "cell_type": "markdown",
   "metadata": {},
   "source": [
    "# Tokenization Steps\n",
    "\n",
    "In this exercise, you'll code your own tokenizer from scratching using base\n",
    "Python!\n",
    "\n",
    "You might normally start with a pretrained tokenizer, but this exercise will\n",
    "help you get to know see some of the tokenization steps better."
   ]
  },
  {
   "cell_type": "markdown",
   "metadata": {},
   "source": [
    "## Define Sample Text\n",
    "\n",
    "Let's first define some sample text you will use to test your tokenization\n",
    "steps."
   ]
  },
  {
   "cell_type": "code",
   "execution_count": 118,
   "metadata": {},
   "outputs": [
    {
     "name": "stdout",
     "output_type": "stream",
     "text": [
      "Mr. Louis continued to say, \"Penguins are important, \n",
      "but we mustn't forget the nuumber 1 priority: the READER!\"\n",
      "\n"
     ]
    }
   ],
   "source": [
    "sample_text = '''Mr. Louis continued to say, \"Penguins are important, \n",
    "but we mustn't forget the nuumber 1 priority: the READER!\"\n",
    "'''\n",
    "\n",
    "print(sample_text)"
   ]
  },
  {
   "cell_type": "markdown",
   "metadata": {},
   "source": [
    "## Normalization\n",
    "\n",
    "This step is where you'll normalize your text by converting to lowercase,\n",
    "removing accented characters, etc.\n",
    "\n",
    "For example, the text:\n",
    "```\n",
    "Did Uncle Max like the jalapeño dip?\n",
    "```\n",
    "might be normalized to:\n",
    "```\n",
    "did uncle max like the jalapeno dip\n",
    "```"
   ]
  },
  {
   "cell_type": "code",
   "execution_count": 119,
   "metadata": {
    "slideshow": {
     "slide_type": ""
    },
    "tags": []
   },
   "outputs": [],
   "source": [
    "def normalize_text(text: str) -> str:\n",
    "    # TODO: Normalize incoming text; can be multiple actions\n",
    "    text_01 = text.lower()\n",
    "    normalized_text = text_01\n",
    "    return normalized_text"
   ]
  },
  {
   "cell_type": "code",
   "execution_count": 120,
   "metadata": {},
   "outputs": [
    {
     "data": {
      "text/plain": [
       "'mr. louis continued to say, \"penguins are important, \\nbut we mustn\\'t forget the nuumber 1 priority: the reader!\"\\n'"
      ]
     },
     "execution_count": 120,
     "metadata": {},
     "output_type": "execute_result"
    }
   ],
   "source": [
    "# Test out your normalization\n",
    "normalize_text(sample_text)"
   ]
  },
  {
   "cell_type": "markdown",
   "metadata": {},
   "source": [
    "## Pretokenization\n",
    "\n",
    "This step will take in the normalized text and pretokenize the text into a list\n",
    "of smaller pieces.\n",
    "\n",
    "For example, the text:\n",
    "```\n",
    "Did Uncle Max like the jalapeño dip?\n",
    "```\n",
    "might be normalized & then pretokenized to:\n",
    "```\n",
    "[\n",
    "    'did',\n",
    "    'uncle',\n",
    "    'max',\n",
    "    'like',\n",
    "    'the',\n",
    "    'jalapeno',\n",
    "    'dip?',\n",
    "]\n",
    "```"
   ]
  },
  {
   "cell_type": "code",
   "execution_count": 121,
   "metadata": {},
   "outputs": [],
   "source": [
    "def pretokenize_text(text: str) -> list[str]:\n",
    "    # TODO: Pretokenize normalized text\n",
    "    text_01 = text\\\n",
    "    .replace(\".\", \" .\")\\\n",
    "    .replace(\",\", \" ,\")\\\n",
    "    .replace(\":\", \" :\")\\\n",
    "    .replace(\"!\", \" !\")\\\n",
    "    .replace('\"', ' \" ')\\\n",
    "    .split()\n",
    "    smaller_pieces = list(text_01)\n",
    "    return smaller_pieces"
   ]
  },
  {
   "cell_type": "code",
   "execution_count": null,
   "metadata": {},
   "outputs": [],
   "source": []
  },
  {
   "cell_type": "code",
   "execution_count": 122,
   "metadata": {},
   "outputs": [
    {
     "data": {
      "text/plain": [
       "['mr',\n",
       " '.',\n",
       " 'louis',\n",
       " 'continued',\n",
       " 'to',\n",
       " 'say',\n",
       " ',',\n",
       " '\"',\n",
       " 'penguins',\n",
       " 'are',\n",
       " 'important',\n",
       " ',',\n",
       " 'but',\n",
       " 'we',\n",
       " \"mustn't\",\n",
       " 'forget',\n",
       " 'the',\n",
       " 'nuumber',\n",
       " '1',\n",
       " 'priority',\n",
       " ':',\n",
       " 'the',\n",
       " 'reader',\n",
       " '!',\n",
       " '\"']"
      ]
     },
     "execution_count": 122,
     "metadata": {},
     "output_type": "execute_result"
    }
   ],
   "source": [
    "# Test out your pretokenization step (after normalizing the text)\n",
    "normalized_text = normalize_text(sample_text)\n",
    "pretokenize_text(normalized_text)"
   ]
  },
  {
   "cell_type": "markdown",
   "metadata": {},
   "source": [
    "## Tokenization\n",
    "\n",
    "This step will take in the list of pretokenized pieces (after the text has \n",
    "been normalized) into the tokens that will be used.\n",
    "\n",
    "For example, the text:\n",
    "```\n",
    "Did Uncle Max like the jalapeño dip?\n",
    "```\n",
    "might be normalized, pretokenized, and then tokenized to:\n",
    "```\n",
    "[\n",
    "    'did',\n",
    "    'uncle',\n",
    "    'max',\n",
    "    'like',\n",
    "    'the',\n",
    "    'jalapeno',\n",
    "    'dip'\n",
    "    '?',\n",
    "]\n",
    "```"
   ]
  },
  {
   "cell_type": "code",
   "execution_count": 123,
   "metadata": {},
   "outputs": [],
   "source": [
    "# Combine normalization and pretokenization steps before breaking things further\n",
    "def tokenize_text(text: str) -> list[str]:\n",
    "    # Apply normalization & pretokenization steps \n",
    "    normalized_text: str = normalize_text(text)\n",
    "    pretokenized_text: list[str] = pretokenize_text(normalized_text)\n",
    "    # TODO: Go through pretokenized text to create a list of tokens\n",
    "    tokens = list(pretokenized_text)\n",
    "    return tokens"
   ]
  },
  {
   "cell_type": "code",
   "execution_count": 124,
   "metadata": {},
   "outputs": [
    {
     "data": {
      "text/plain": [
       "['mr',\n",
       " '.',\n",
       " 'louis',\n",
       " 'continued',\n",
       " 'to',\n",
       " 'say',\n",
       " ',',\n",
       " '\"',\n",
       " 'penguins',\n",
       " 'are',\n",
       " 'important',\n",
       " ',',\n",
       " 'but',\n",
       " 'we',\n",
       " \"mustn't\",\n",
       " 'forget',\n",
       " 'the',\n",
       " 'nuumber',\n",
       " '1',\n",
       " 'priority',\n",
       " ':',\n",
       " 'the',\n",
       " 'reader',\n",
       " '!',\n",
       " '\"']"
      ]
     },
     "execution_count": 124,
     "metadata": {},
     "output_type": "execute_result"
    }
   ],
   "source": [
    "# Test out your tokenization (that uses normalizing & pretokenizing functions)\n",
    "tokenize_text(sample_text)"
   ]
  },
  {
   "cell_type": "markdown",
   "metadata": {},
   "source": [
    "## Postprocessing\n",
    "\n",
    "This final step will take in the list of tokens from the original text and add\n",
    "any special tokens to the text.\n",
    "\n",
    "For example, the text:\n",
    "```\n",
    "Did Uncle Max like the jalapeño dip?\n",
    "```\n",
    "might be normalized, pretokenized, and then tokenized to:\n",
    "```\n",
    "[\n",
    "    '[BOS]',\n",
    "    'did',\n",
    "    'uncle',\n",
    "    'max',\n",
    "    'like',\n",
    "    'the',\n",
    "    'jalapeno',\n",
    "    'dip'\n",
    "    '?',\n",
    "    '[EOS]',\n",
    "]\n",
    "```"
   ]
  },
  {
   "cell_type": "code",
   "execution_count": 125,
   "metadata": {},
   "outputs": [],
   "source": [
    "def postprocess_tokens(tokens: list[str]) -> list[str]:\n",
    "    # TODO: Add beginning and end of sequence tokens to your tokenized text\n",
    "    # Can use a format like '[BOS]' & '[EOS]'\n",
    "    updated_tokens = list(['[BOS]']+tokens+['[EOS]'])\n",
    "    return updated_tokens"
   ]
  },
  {
   "cell_type": "code",
   "execution_count": 126,
   "metadata": {},
   "outputs": [
    {
     "name": "stdout",
     "output_type": "stream",
     "text": [
      "['[BOS]', 'mr', '.', 'louis', 'continued', 'to', 'say', ',', '\"', 'penguins', 'are', 'important', ',', 'but', 'we', \"mustn't\", 'forget', 'the', 'nuumber', '1', 'priority', ':', 'the', 'reader', '!', '\"', '[EOS]']\n"
     ]
    }
   ],
   "source": [
    "# Test full pipeline (normalizing, pretokenizing, tokenizing, & postprocessing)\n",
    "tokens = tokenize_text(sample_text)\n",
    "tokens = postprocess_tokens(tokens)\n",
    "\n",
    "print(tokens)"
   ]
  },
  {
   "cell_type": "markdown",
   "metadata": {},
   "source": [
    "# Encoding & Decoding"
   ]
  },
  {
   "cell_type": "markdown",
   "metadata": {},
   "source": [
    "## Encoding Text to Token IDs\n",
    "\n",
    "Create an encoder (`encode()`) that will encode the token strings to integer IDs\n",
    "by defining how to map each token to a unique ID.\n",
    "\n",
    "> HINT: \n",
    "> \n",
    "> An easy method is to assign an arbitrary integer to each unique token from \n",
    "> the corpus by iterating through the unique tokens."
   ]
  },
  {
   "cell_type": "code",
   "execution_count": 127,
   "metadata": {},
   "outputs": [],
   "source": [
    "# Sample corpus (normally this would be much bigger)\n",
    "sample_corpus = (\n",
    "    '''Mr. Louis continued to say, \"Penguins are important, \\nbut we mustn't forget the nuumber 1 priority: the READER!\"''',\n",
    "    '''BRUTUS:\\nHe's a lamb indeed, that baes like a bear.''',\n",
    "    '''Both by myself and many other friends:\\mBut he, his own affections' counsellor,\\nIs to himself--I will not say how true--\\nBut to himself so secret and so close,'''\n",
    ")"
   ]
  },
  {
   "cell_type": "code",
   "execution_count": 156,
   "metadata": {},
   "outputs": [
    {
     "data": {
      "text/plain": [
       "[0,\n",
       " 1,\n",
       " 2,\n",
       " 3,\n",
       " 4,\n",
       " 5,\n",
       " 6,\n",
       " 7,\n",
       " 8,\n",
       " 9,\n",
       " 10,\n",
       " 11,\n",
       " 12,\n",
       " 13,\n",
       " 14,\n",
       " 15,\n",
       " 16,\n",
       " 17,\n",
       " 18,\n",
       " 19,\n",
       " 20,\n",
       " 21,\n",
       " 22,\n",
       " 23,\n",
       " 24]"
      ]
     },
     "execution_count": 156,
     "metadata": {},
     "output_type": "execute_result"
    }
   ],
   "source": [
    "tokens = tokenize_text(sample_corpus[0])\n",
    "[i[0] for i in list(enumerate(tokens))]"
   ]
  },
  {
   "cell_type": "code",
   "execution_count": 186,
   "metadata": {},
   "outputs": [],
   "source": [
    "# TODO: Create an encoder to transform token strings to IDs using the sample\n",
    "# corpus as the basis of your encoding\n",
    "\n",
    "# TODO: Your code here (might be outside of the encode() function scope)\n",
    "\n",
    "def encode(tokens: list[str]) -> list[int]:\n",
    "    # TODO: Complete this function to encode tokens to integer IDs\n",
    "    global df_encoder_decoder\n",
    "    df_encoder_decoder = list(enumerate(tokens))\n",
    "    encoded_tokens = [i[0] for i in df_encoder_decoder]\n",
    "    return encoded_tokens\n"
   ]
  },
  {
   "cell_type": "markdown",
   "metadata": {},
   "source": [
    "### Test `encode()`"
   ]
  },
  {
   "cell_type": "code",
   "execution_count": 187,
   "metadata": {},
   "outputs": [
    {
     "name": "stdout",
     "output_type": "stream",
     "text": [
      "Tokens:\n",
      "['[BOS]', 'mr', '.', 'louis', 'continued', 'to', 'say', ',', '\"', 'penguins', 'are', 'important', ',', 'but', 'we', \"mustn't\", 'forget', 'the', 'nuumber', '1', 'priority', ':', 'the', 'reader', '!', '\"', '[EOS]']\n",
      "\n"
     ]
    }
   ],
   "source": [
    "# Use sample text for testing\n",
    "sample_text = sample_corpus[0]\n",
    "# Create tokens (to be fed to encode())\n",
    "tokens = tokenize_text(sample_text)\n",
    "tokens = postprocess_tokens(tokens)\n",
    "print(f'Tokens:\\n{tokens}\\n')"
   ]
  },
  {
   "cell_type": "code",
   "execution_count": 188,
   "metadata": {},
   "outputs": [
    {
     "name": "stdout",
     "output_type": "stream",
     "text": [
      "Encoded Tokens:\n",
      "[0, 1, 2, 3, 4, 5, 6, 7, 8, 9, 10, 11, 12, 13, 14, 15, 16, 17, 18, 19, 20, 21, 22, 23, 24, 25, 26]\n",
      "\n"
     ]
    }
   ],
   "source": [
    "# Test encode()\n",
    "encoded_tokens = encode(tokens)\n",
    "print(f'Encoded Tokens:\\n{encoded_tokens}\\n')"
   ]
  },
  {
   "cell_type": "markdown",
   "metadata": {},
   "source": [
    "## Decoding Token IDs to Text\n",
    "\n",
    "Based on your enocder you created (`encode()`), create a decoder (`decode()`) to\n",
    "take a list of token IDs and map them to their associated token."
   ]
  },
  {
   "cell_type": "code",
   "execution_count": 212,
   "metadata": {},
   "outputs": [
    {
     "data": {
      "text/plain": [
       "['[BOS]',\n",
       " 'mr',\n",
       " '.',\n",
       " 'louis',\n",
       " 'continued',\n",
       " 'to',\n",
       " 'say',\n",
       " ',',\n",
       " '\"',\n",
       " 'penguins',\n",
       " 'are',\n",
       " 'important',\n",
       " ',',\n",
       " 'but',\n",
       " 'we',\n",
       " \"mustn't\",\n",
       " 'forget',\n",
       " 'the',\n",
       " 'nuumber',\n",
       " '1',\n",
       " 'priority',\n",
       " ':',\n",
       " 'the',\n",
       " 'reader',\n",
       " '!',\n",
       " '\"',\n",
       " '[EOS]']"
      ]
     },
     "execution_count": 212,
     "metadata": {},
     "output_type": "execute_result"
    }
   ],
   "source": [
    "[v for k, v in dict(df_encoder_decoder).items() if k in encoded_tokens]"
   ]
  },
  {
   "cell_type": "code",
   "execution_count": 214,
   "metadata": {},
   "outputs": [],
   "source": [
    "# TODO: Create an encoder to transform IDs (from encode()) to token strings\n",
    "def decode(ids: list[int]) -> list[str]:\n",
    "    # TODO: Complete this function to decode integer IDs to token strings\n",
    "    decoded_tokens = [v for k, v in dict(df_encoder_decoder).items() if k in ids]\n",
    "    token_strings = list(decoded_tokens)\n",
    "    return token_strings"
   ]
  },
  {
   "cell_type": "markdown",
   "metadata": {},
   "source": [
    "### Test `decode()`"
   ]
  },
  {
   "cell_type": "code",
   "execution_count": 215,
   "metadata": {},
   "outputs": [
    {
     "name": "stdout",
     "output_type": "stream",
     "text": [
      "Tokens:\n",
      "['[BOS]', 'mr', '.', 'louis', 'continued', 'to', 'say', ',', '\"', 'penguins', 'are', 'important', ',', 'but', 'we', \"mustn't\", 'forget', 'the', 'nuumber', '1', 'priority', ':', 'the', 'reader', '!', '\"', '[EOS]']\n",
      "\n",
      "Encoded Tokens:\n",
      "[0, 1, 2, 3, 4, 5, 6, 7, 8, 9, 10, 11, 12, 13, 14, 15, 16, 17, 18, 19, 20, 21, 22, 23, 24, 25, 26]\n",
      "\n"
     ]
    }
   ],
   "source": [
    "# Use sample text for testing\n",
    "sample_text = sample_corpus[0]\n",
    "# Create tokens\n",
    "tokens = tokenize_text(sample_text)\n",
    "tokens = postprocess_tokens(tokens)\n",
    "print(f'Tokens:\\n{tokens}\\n')\n",
    "\n",
    "# Create token IDs (to be fed to decode())\n",
    "encoded_tokens = encode(tokens)\n",
    "print(f'Encoded Tokens:\\n{encoded_tokens}\\n')"
   ]
  },
  {
   "cell_type": "code",
   "execution_count": 217,
   "metadata": {},
   "outputs": [
    {
     "name": "stdout",
     "output_type": "stream",
     "text": [
      "Decoded Tokens:\n",
      "['[BOS]', 'mr', '.', 'louis', 'continued', 'to', 'say', ',', '\"', 'penguins', 'are', 'important', ',', 'but', 'we', \"mustn't\", 'forget', 'the', 'nuumber', '1', 'priority', ':', 'the', 'reader', '!', '\"', '[EOS]']\n",
      "\n"
     ]
    }
   ],
   "source": [
    "# Test out decode()\n",
    "decoded_tokens = decode(encoded_tokens)\n",
    "print(f'Decoded Tokens:\\n{decoded_tokens}\\n')"
   ]
  },
  {
   "cell_type": "code",
   "execution_count": null,
   "metadata": {},
   "outputs": [],
   "source": []
  },
  {
   "cell_type": "code",
   "execution_count": null,
   "metadata": {},
   "outputs": [],
   "source": []
  }
 ],
 "metadata": {
  "kernelspec": {
   "display_name": "Python 3 (ipykernel)",
   "language": "python",
   "name": "python3"
  },
  "language_info": {
   "codemirror_mode": {
    "name": "ipython",
    "version": 3
   },
   "file_extension": ".py",
   "mimetype": "text/x-python",
   "name": "python",
   "nbconvert_exporter": "python",
   "pygments_lexer": "ipython3",
   "version": "3.10.13"
  }
 },
 "nbformat": 4,
 "nbformat_minor": 4
}
