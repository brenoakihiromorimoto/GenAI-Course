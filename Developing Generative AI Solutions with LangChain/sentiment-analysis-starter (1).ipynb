{
 "cells": [
  {
   "cell_type": "code",
   "execution_count": 1,
   "metadata": {},
   "outputs": [],
   "source": [
    "import os\n",
    "\n",
    "os.environ['OPENAI_API_KEY']=\"OPEN_API_KEY\""
   ]
  },
  {
   "cell_type": "code",
   "execution_count": 4,
   "metadata": {},
   "outputs": [],
   "source": [
    "# from langchain.llms import OpenAI # this code has been deprecated since recording.\n",
    "from langchain.chat_models import ChatOpenAI # this is the replacement \n",
    "from langchain.prompts import PromptTemplate\n",
    "from langchain.document_loaders.csv_loader import CSVLoader\n",
    "from langchain.output_parsers import PydanticOutputParser\n",
    "from pydantic import BaseModel, Field, NonNegativeInt\n",
    "from typing import List\n",
    "from random import sample "
   ]
  },
  {
   "cell_type": "markdown",
   "metadata": {},
   "source": [
    "First, let's create a loader and load reviews from tv-reviews.csv into memory"
   ]
  },
  {
   "cell_type": "code",
   "execution_count": 6,
   "metadata": {},
   "outputs": [],
   "source": [
    "# TODO: load reviews from tv-reviews.csv\n",
    "loader = CSVLoader('tv-reviews.csv')\n",
    "df = loader.load()"
   ]
  },
  {
   "cell_type": "markdown",
   "metadata": {},
   "source": [
    "Then, let's initialize our LLM"
   ]
  },
  {
   "cell_type": "code",
   "execution_count": 34,
   "metadata": {},
   "outputs": [],
   "source": [
    "# TODO: initialize OpenAI object with your API key\n",
    "llm = ChatOpenAI(\n",
    "    model=\"gpt-3.5-turbo-0125\", \n",
    "    temperature=0\n",
    ")"
   ]
  },
  {
   "cell_type": "markdown",
   "metadata": {},
   "source": [
    "Now, let's setup our parser and a template  - \n",
    "\n",
    "**Note**  that since recording, the code to initialize the model has been updated to \n",
    "\n",
    "`llm = ChatOpenAI()`"
   ]
  },
  {
   "cell_type": "code",
   "execution_count": 35,
   "metadata": {},
   "outputs": [
    {
     "name": "stdout",
     "output_type": "stream",
     "text": [
      "The output should be formatted as a JSON instance that conforms to the JSON schema below.\n",
      "\n",
      "As an example, for the schema {\"properties\": {\"foo\": {\"title\": \"Foo\", \"description\": \"a list of strings\", \"type\": \"array\", \"items\": {\"type\": \"string\"}}}, \"required\": [\"foo\"]}\n",
      "the object {\"foo\": [\"bar\", \"baz\"]} is a well-formatted instance of the schema. The object {\"properties\": {\"foo\": [\"bar\", \"baz\"]}} is not well-formatted.\n",
      "\n",
      "Here is the output schema:\n",
      "```\n",
      "{\"properties\": {\"positives\": {\"title\": \"Positives\", \"description\": \"index of a positive TV review, starting from 0\", \"type\": \"array\", \"items\": {\"type\": \"integer\", \"minimum\": 0}}, \"negatives\": {\"title\": \"Negatives\", \"description\": \"index of a negative TV review, starting from 0\", \"type\": \"array\", \"items\": {\"type\": \"integer\", \"minimum\": 0}}}, \"required\": [\"positives\", \"negatives\"]}\n",
      "```\n",
      "\n",
      "    Classify TV reviews provided in the context into positive and negative.\n",
      "    Only use reviews provided in the context, do not make new reviews or use any existing information you know about these TVs.\n",
      "    If there are no positive or negative reviews, output an empty JSON array\n",
      "\n",
      "The output should be formatted as a JSON instance that conforms to the JSON schema below.\n",
      "\n",
      "As an example, for the schema {\"properties\": {\"foo\": {\"title\": \"Foo\", \"description\": \"a list of strings\", \"type\": \"array\", \"items\": {\"type\": \"string\"}}}, \"required\": [\"foo\"]}\n",
      "the object {\"foo\": [\"bar\", \"baz\"]} is a well-formatted instance of the schema. The object {\"properties\": {\"foo\": [\"bar\", \"baz\"]}} is not well-formatted.\n",
      "\n",
      "Here is the output schema:\n",
      "```\n",
      "{\"properties\": {\"positives\": {\"title\": \"Positives\", \"description\": \"index of a positive TV review, starting from 0\", \"type\": \"array\", \"items\": {\"type\": \"integer\", \"minimum\": 0}}, \"negatives\": {\"title\": \"Negatives\", \"description\": \"index of a negative TV review, starting from 0\", \"type\": \"array\", \"items\": {\"type\": \"integer\", \"minimum\": 0}}}, \"required\": [\"positives\", \"negatives\"]}\n",
      "```\n",
      "Context: TV Name: Imagix Pro\n",
      "Review Title: Disappointing Sound Quality\n",
      "Review Rating: 3\n",
      "Review Text: While the picture quality of the Imagix Pro is excellent, I am disappointed with the sound quality. The volume lacks depth and the bass is almost non-existent. I had to invest in external speakers to enjoy a better audio experience. It's a shame that such a great TV falls short in this aspect.\n",
      "TV Name: VisionMax Ultra\n",
      "Review Title: Disappointing Sound\n",
      "Review Rating: 5\n",
      "Review Text: While the picture quality of the VisionMax Ultra is exceptional, the sound quality falls short. The built-in speakers lack depth and the audio feels hollow. I had to connect external speakers to enjoy a fulfilling audio experience. It's a letdown considering the overall performance of the TV.\n",
      "TV Name: VisionMax Ultra\n",
      "Review Title: Unmatched Visuals\n",
      "Review Rating: 10\n",
      "Review Text: The VisionMax Ultra lives up to its name by delivering unmatched visuals. The 4K resolution and HDR technology bring every scene to life with incredible detail and vibrant colors. It's like having a cinema in my own home. I couldn't be happier with this TV!\n"
     ]
    }
   ],
   "source": [
    "class ReviewSentiment(BaseModel):\n",
    "    positives: List[NonNegativeInt] = Field(description=\"index of a positive TV review, starting from 0\")\n",
    "    negatives: List[NonNegativeInt] = Field(description=\"index of a negative TV review, starting from 0\")\n",
    "        \n",
    "parser = PydanticOutputParser(pydantic_object=ReviewSentiment)\n",
    "# TODO: setup a template with partial and input variables\n",
    "print(parser.get_format_instructions())\n",
    "\n",
    "prompt = PromptTemplate(\n",
    "    template=\"{question}\\n{format_instructions}\\nContext: {context}\", \n",
    "    input_variables=['question', 'context'],\n",
    "    partial_variables={'format_instructions': parser.get_format_instructions()}\n",
    ")\n",
    "\n",
    "question = \"\"\"\n",
    "    Classify TV reviews provided in the context into positive and negative.\n",
    "    Only use reviews provided in the context, do not make new reviews or use any existing information you know about these TVs.\n",
    "    If there are no positive or negative reviews, output an empty JSON array\n",
    "\"\"\"\n",
    "reviews_to_classify = sample(df, 3)\n",
    "\n",
    "context = \"\\n\".join(review.page_content for review in reviews_to_classify)\n",
    "\n",
    "query = prompt.format(context=context, question=question)\n",
    "print(query)"
   ]
  },
  {
   "cell_type": "markdown",
   "metadata": {},
   "source": [
    "Pick 3 sample reviews to classify - LLMs have a limited context window they can work with. In later exercises, we'll see how to deal with that differently"
   ]
  },
  {
   "cell_type": "code",
   "execution_count": 39,
   "metadata": {},
   "outputs": [],
   "source": [
    "# TODO: pick 3 random reviews and save them into reviews_to_classify variable\n",
    "reviews_to_classify = sample(df, 3)"
   ]
  },
  {
   "cell_type": "markdown",
   "metadata": {},
   "source": [
    "# generate textual prompt from the prompt template\n",
    "question = \"\"\"\n",
    "    Review TVs provided in the context. \n",
    "    Only use the reviews provided in this context, do not make up new reviews or use any existing information you know about these TVs. \n",
    "    If there are no positive or negative reviews, output an empty JSON array. \n",
    "\"\"\"\n",
    "query = prompt.format(context = context, question = question)"
   ]
  },
  {
   "cell_type": "markdown",
   "metadata": {},
   "source": [
    "Finally, let's send our query to LLM and use the parser we setup to parse an output into a Python object\n",
    "\n",
    "**NOTE**: Since recording the code to feed the query to the llm has been updated to\n",
    "\n",
    "`llm.predict(query)`"
   ]
  },
  {
   "cell_type": "code",
   "execution_count": 40,
   "metadata": {},
   "outputs": [
    {
     "name": "stdout",
     "output_type": "stream",
     "text": [
      "positives=[2] negatives=[0, 1]\n",
      "Positives:\n",
      "TV Name: VisionMax Ultra\n",
      "Review Title: Immersive Audio Experience\n",
      "Review Rating: 10\n",
      "Review Text: The VisionMax Ultra delivers an immersive audio experience. The built-in speakers produce clear and well-balanced sound. The Dolby Atmos technology adds depth and dimension to the audio, making it feel like I'm in a theater. I'm thoroughly impressed!\n",
      "Negatives:\n",
      "TV Name: VisionMax Ultra\n",
      "Review Title: Impressive Smart Features\n",
      "Review Rating: 8\n",
      "Review Text: The VisionMax Ultra comes loaded with impressive smart features. The user interface is intuitive and easy to navigate. The TV seamlessly integrates with various streaming platforms, providing a hassle-free entertainment experience. It's like having a smart hub at my fingertips.\n",
      "TV Name: Imagix Pro\n",
      "Review Title: Disappointing Sound Quality\n",
      "Review Rating: 3\n",
      "Review Text: While the picture quality of the Imagix Pro is excellent, I am disappointed with the sound quality. The volume lacks depth and the bass is almost non-existent. I had to invest in external speakers to enjoy a better audio experience. It's a shame that such a great TV falls short in this aspect.\n"
     ]
    }
   ],
   "source": [
    "# TODO: query LLM, then parse output into the result variable\n",
    "output = llm.predict(query)\n",
    "result = parser.parse(output)\n",
    "print(result)\n",
    "print(\"Positives:\\n\" + \"\\n\".join([reviews_to_classify[i].page_content for i in result.positives]))\n",
    "print(\"Negatives:\\n\" + \"\\n\".join([reviews_to_classify[i].page_content for i in result.negatives]))"
   ]
  },
  {
   "cell_type": "code",
   "execution_count": null,
   "metadata": {},
   "outputs": [],
   "source": []
  },
  {
   "cell_type": "code",
   "execution_count": null,
   "metadata": {},
   "outputs": [],
   "source": []
  }
 ],
 "metadata": {
  "kernelspec": {
   "display_name": "Python 3 (ipykernel)",
   "language": "python",
   "name": "python3"
  },
  "language_info": {
   "codemirror_mode": {
    "name": "ipython",
    "version": 3
   },
   "file_extension": ".py",
   "mimetype": "text/x-python",
   "name": "python",
   "nbconvert_exporter": "python",
   "pygments_lexer": "ipython3",
   "version": "3.10.13"
  }
 },
 "nbformat": 4,
 "nbformat_minor": 2
}
